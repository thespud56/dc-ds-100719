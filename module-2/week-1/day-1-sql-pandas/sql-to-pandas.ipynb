{
 "cells": [
  {
   "cell_type": "markdown",
   "metadata": {
    "slideshow": {
     "slide_type": "slide"
    }
   },
   "source": [
    "![sql](img/sql-logo.jpg)\n",
    "\n",
    "# A beginner's guide to databases, SQL, & using them with `pandas`"
   ]
  },
  {
   "cell_type": "markdown",
   "metadata": {
    "slideshow": {
     "slide_type": "slide"
    }
   },
   "source": [
    "**Scenario:** You are a data analyst for the Homeland Security, trying to create reports on the active airports world wide. The data you need to access is in a SQL database. YOu need to be able to query for the data in a database!"
   ]
  },
  {
   "cell_type": "markdown",
   "metadata": {
    "slideshow": {
     "slide_type": "slide"
    }
   },
   "source": [
    "## Learning goals:\n",
    "- Goal 1: Summarize the use case for sql in the data science skill set\n",
    "- Goal 2: Define key sql terminology\n",
    "- Goal 3: Get information about DB schema and table structure\n",
    "- Goal 4: Use basic SQL commands:\n",
    "    - Construct SQL queries\n",
    "    - Use JOIN to merge tables along logical columns\n",
    "    - Grouping Data with SQL\n",
    "- Goal 5: Query data from pandas dataframes using SQL\n",
    "- Goal 6: Convert SQL to pandas"
   ]
  },
  {
   "cell_type": "markdown",
   "metadata": {
    "slideshow": {
     "slide_type": "slide"
    }
   },
   "source": [
    "## Goal 1: Summarize\n",
    "\n",
    "To date the data we've seen has looked like [this.](https://data.austintexas.gov/Health-and-Community-Services/Austin-Animal-Center-Intakes/wter-evkm)\n",
    "\n",
    "That is how we need data to look to run analysis and build models.<br>\n",
    "But it doesn't _live_ there in it's native state."
   ]
  },
  {
   "cell_type": "markdown",
   "metadata": {
    "slideshow": {
     "slide_type": "slide"
    }
   },
   "source": [
    "[Netflix has a great article](https://medium.com/netflix-techblog/notebook-innovation-591ee3221233) describing three different data roles at their company, their different needs, and their toolsets.\n",
    "\n",
    "![netflix](img/netflix-data-roles.jpeg)\n",
    "\n",
    "Examining that graphic, SQL shows up as one of the tools of the _Data Engineer_ "
   ]
  },
  {
   "cell_type": "markdown",
   "metadata": {
    "slideshow": {
     "slide_type": "slide"
    }
   },
   "source": [
    "Data Engineers provide the essential data architecture services that make data science possible.\n",
    "\n",
    "![hierarchy](img/ai-hierachy.png)\n",
    "\n",
    "[Source: Monica Rogati’s fantastic Medium post “The AI Hierarchy of Needs”\n",
    "](https://hackernoon.com/the-ai-hierarchy-of-needs-18f111fcc007)"
   ]
  },
  {
   "cell_type": "markdown",
   "metadata": {},
   "source": [
    "## What does it mean to **Engineer Data**?\n",
    "\n",
    "Let's start with a basic scenario:<br>\n",
    "You are HR. You have *no* current database. \n",
    "How would you set it up?\n",
    "\n",
    "Data needs considerations:\n",
    "- What you want to store\n",
    "- What \"views\" you anticipate wanting in the future\n",
    "\n",
    "Structure considerations:\n",
    "- Speed of retrieval\n",
    "- How much data you are accessing\n",
    "- How much you are storing"
   ]
  },
  {
   "cell_type": "markdown",
   "metadata": {
    "slideshow": {
     "slide_type": "slide"
    }
   },
   "source": [
    "![etl](img/etl.png)\n",
    "\n",
    "[img source: Jeff Hammerbacher’s slide from UC Berkeley CS 194 course ](https://bcourses.berkeley.edu/courses/1377158/pages/cs-194-16-introduction-to-data-science-fall-2015)"
   ]
  },
  {
   "cell_type": "markdown",
   "metadata": {
    "slideshow": {
     "slide_type": "slide"
    }
   },
   "source": [
    "### What is a Relational Database? \n",
    "\n",
    "![rdb](img/relational-dbms-model.png)\n",
    "[reference for image ](https://www.studytonight.com/dbms/database-model.php)"
   ]
  },
  {
   "cell_type": "markdown",
   "metadata": {
    "slideshow": {
     "slide_type": "slide"
    }
   },
   "source": [
    "### POPULAR RDBMS\n",
    "\n",
    "- SQLite\n",
    "- MySQL\n",
    "- PostgreSql\n",
    "- Oracle DB\n",
    "- SQL Server"
   ]
  },
  {
   "cell_type": "markdown",
   "metadata": {},
   "source": [
    "***\n",
    "### SQL\n",
    "\n",
    "[History of SQL](https://www.businessnewsdaily.com/5804-what-is-sql.html)\n",
    "\n",
    "> Future users of large data banks must be protected from having to know how the data is organized in the machine (the internal representation). A prompting service which supplies such information is not a satisfactory solution. Activities of users at terminals and most application programs should remain unaffected when the internal representation of data is changed and even when some aspects of the external representation are changed. Changes in data representation will often be needed as a result of changes in query, update, and report traffic and natural growth in the types of stored information.\n",
    ".\n",
    ".\n",
    ".<br>\n",
    "<br>\n",
    "In Section 1 a relational model of data is proposed as a basis for protecting users of formatted data systems from the potentially disruptive changes in data representation caused by growth in the data bank and changes in traffic.\n",
    "\n",
    "[The original SQL paper from the 1970s.](https://www.seas.upenn.edu/~zives/03f/cis550/codd.pdf)"
   ]
  },
  {
   "cell_type": "markdown",
   "metadata": {
    "slideshow": {
     "slide_type": "slide"
    }
   },
   "source": [
    "***\n",
    "## Goal 2: Database terminology\n",
    "\n",
    "### Relational Database Schema\n",
    "\n",
    "![schema](img/MySQL_Schema_Music_Example.png)\n",
    "\n",
    "[source of image](https://database.guide/what-is-a-database-schema/)"
   ]
  },
  {
   "cell_type": "markdown",
   "metadata": {
    "slideshow": {
     "slide_type": "slide"
    }
   },
   "source": [
    "### Table columns view\n",
    "<img src=\"img/columns.png\" width=650>"
   ]
  },
  {
   "cell_type": "markdown",
   "metadata": {
    "slideshow": {
     "slide_type": "slide"
    }
   },
   "source": [
    "### Terminology\n",
    "\n",
    "- Database\n",
    "- Schema\n",
    "- Queries\n",
    "- Tables\n",
    "- Views\n",
    "- Primary Keys\n",
    "- Foreign Keys\n",
    "- Indexes\n",
    "- Functions & User Defined Functions (UDFs)"
   ]
  },
  {
   "cell_type": "markdown",
   "metadata": {
    "slideshow": {
     "slide_type": "slide"
    }
   },
   "source": [
    "***\n",
    "### SQLite\n",
    "\n",
    "<img src=\"img/SQLite-Python.jpg\" width=650>\n",
    "\n",
    "\"SQLite is a C library that provides a lightweight disk-based database that doesn’t require a separate server process and allows accessing the database using a nonstandard variant of the SQL query language. Some applications can use SQLite for internal data storage. It’s also possible to prototype an application using SQLite and then port the code to a larger database such as PostgreSQL or Oracle.\" - [sqlite documentation](https://docs.python.org/2/library/sqlite3.html)\n",
    "\n"
   ]
  },
  {
   "cell_type": "markdown",
   "metadata": {
    "slideshow": {
     "slide_type": "slide"
    }
   },
   "source": [
    "## But what about connecting to database servers?\n",
    "\n",
    "To connect to other database types there are many different libraries:\n",
    "- Oracle: [cx_Oracle](https://oracle.github.io/python-cx_Oracle/)\n",
    "- MySQL: [MySQL-python](https://github.com/farcepest/MySQLdb1)\n",
    "- PostgreSQL: [Psycopg2](http://initd.org/psycopg/docs/)\n",
    "- Microsoft SQL Server: [pymssql](http://www.pymssql.org/en/stable/)\n",
    "\n",
    "These all implement [PEP 249: DB API v2](https://www.python.org/dev/peps/pep-0249/)"
   ]
  },
  {
   "cell_type": "markdown",
   "metadata": {
    "slideshow": {
     "slide_type": "slide"
    }
   },
   "source": [
    "***\n",
    "## Goal 3: Get going with sqlite!"
   ]
  },
  {
   "cell_type": "code",
   "execution_count": 1,
   "metadata": {
    "slideshow": {
     "slide_type": "fragment"
    }
   },
   "outputs": [],
   "source": [
    "import sqlite3"
   ]
  },
  {
   "cell_type": "markdown",
   "metadata": {
    "slideshow": {
     "slide_type": "slide"
    }
   },
   "source": [
    "#### Load a DB object with `connect` and `cursor`"
   ]
  },
  {
   "cell_type": "code",
   "execution_count": 2,
   "metadata": {
    "slideshow": {
     "slide_type": "fragment"
    }
   },
   "outputs": [],
   "source": [
    "con = sqlite3.connect('flights.db')\n",
    "cursor = con.cursor()"
   ]
  },
  {
   "cell_type": "markdown",
   "metadata": {
    "slideshow": {
     "slide_type": "slide"
    }
   },
   "source": [
    "#### Use sqlite_master to find all the tables in the schema\n",
    "Get the schema of a database from a db in sqlite"
   ]
  },
  {
   "cell_type": "code",
   "execution_count": 3,
   "metadata": {},
   "outputs": [
    {
     "name": "stdout",
     "output_type": "stream",
     "text": [
      "[('airports',), ('airlines',), ('routes',)]\n"
     ]
    }
   ],
   "source": [
    "cursor.execute(\"SELECT name FROM sqlite_master WHERE type='table';\")\n",
    "print(cursor.fetchall())"
   ]
  },
  {
   "cell_type": "code",
   "execution_count": 4,
   "metadata": {},
   "outputs": [
    {
     "data": {
      "text/plain": [
       "(('name', None, None, None, None, None, None),)"
      ]
     },
     "execution_count": 4,
     "metadata": {},
     "output_type": "execute_result"
    }
   ],
   "source": [
    "cursor.description"
   ]
  },
  {
   "cell_type": "code",
   "execution_count": 5,
   "metadata": {},
   "outputs": [
    {
     "name": "stdout",
     "output_type": "stream",
     "text": [
      "[('airports', 'table'), ('ix_airports_index', 'index'), ('airlines', 'table'), ('ix_airlines_index', 'index'), ('routes', 'table'), ('ix_routes_index', 'index')]\n"
     ]
    }
   ],
   "source": [
    "cursor.execute(\"SELECT name, type FROM sqlite_master;\")\n",
    "print(cursor.fetchall())"
   ]
  },
  {
   "cell_type": "code",
   "execution_count": 6,
   "metadata": {},
   "outputs": [
    {
     "name": "stdout",
     "output_type": "stream",
     "text": [
      "('table', 'airports', 'airports', 2, 'CREATE TABLE airports (\\n[index] INTEGER,\\n  [id] TEXT,\\n  [name] TEXT,\\n  [city] TEXT,\\n  [country] TEXT,\\n  [code] TEXT,\\n  [icao] TEXT,\\n  [latitude] TEXT,\\n  [longitude] TEXT,\\n  [altitude] TEXT,\\n  [offset] TEXT,\\n  [dst] TEXT,\\n  [timezone] TEXT\\n)')\n",
      "('index', 'ix_airports_index', 'airports', 3, 'CREATE INDEX ix_airports_index ON airports ([index])')\n",
      "('table', 'airlines', 'airlines', 945, 'CREATE TABLE airlines (\\n[index] INTEGER,\\n  [id] TEXT,\\n  [name] TEXT,\\n  [alias] TEXT,\\n  [iata] TEXT,\\n  [icao] TEXT,\\n  [callsign] TEXT,\\n  [country] TEXT,\\n  [active] TEXT\\n)')\n",
      "('index', 'ix_airlines_index', 'airlines', 946, 'CREATE INDEX ix_airlines_index ON airlines ([index])')\n",
      "('table', 'routes', 'routes', 1393, 'CREATE TABLE routes (\\n[index] INTEGER,\\n  [airline] TEXT,\\n  [airline_id] TEXT,\\n  [source] TEXT,\\n  [source_id] TEXT,\\n  [dest] TEXT,\\n  [dest_id] TEXT,\\n  [codeshare] TEXT,\\n  [stops] TEXT,\\n  [equipment] TEXT\\n)')\n",
      "('index', 'ix_routes_index', 'routes', 1394, 'CREATE INDEX ix_routes_index ON routes ([index])')\n"
     ]
    }
   ],
   "source": [
    "cursor.execute(\"SELECT * FROM sqlite_master;\")\n",
    "results = cursor.fetchall()\n",
    "for res in results:\n",
    "    print(res)"
   ]
  },
  {
   "cell_type": "markdown",
   "metadata": {
    "slideshow": {
     "slide_type": "slide"
    }
   },
   "source": [
    "#### Get information about one table\n",
    "\n",
    "**A note about** `execute`<br>\n",
    "Each time you use it, you reset the value of cursor"
   ]
  },
  {
   "cell_type": "code",
   "execution_count": 7,
   "metadata": {},
   "outputs": [
    {
     "data": {
      "text/plain": [
       "(0,\n",
       " '1',\n",
       " 'Goroka',\n",
       " 'Goroka',\n",
       " 'Papua New Guinea',\n",
       " 'GKA',\n",
       " 'AYGA',\n",
       " '-6.081689',\n",
       " '145.391881',\n",
       " '5282',\n",
       " '10',\n",
       " 'U',\n",
       " 'Pacific/Port_Moresby')"
      ]
     },
     "execution_count": 7,
     "metadata": {},
     "output_type": "execute_result"
    }
   ],
   "source": [
    "cursor.execute(\"SELECT * FROM airports as a\").fetchone()"
   ]
  },
  {
   "cell_type": "code",
   "execution_count": 8,
   "metadata": {},
   "outputs": [
    {
     "data": {
      "text/plain": [
       "(1,\n",
       " '2',\n",
       " 'Madang',\n",
       " 'Madang',\n",
       " 'Papua New Guinea',\n",
       " 'MAG',\n",
       " 'AYMD',\n",
       " '-5.207083',\n",
       " '145.7887',\n",
       " '20',\n",
       " '10',\n",
       " 'U',\n",
       " 'Pacific/Port_Moresby')"
      ]
     },
     "execution_count": 8,
     "metadata": {},
     "output_type": "execute_result"
    }
   ],
   "source": [
    "cursor.fetchone()"
   ]
  },
  {
   "cell_type": "code",
   "execution_count": 9,
   "metadata": {},
   "outputs": [
    {
     "data": {
      "text/plain": [
       "[(2,\n",
       "  '3',\n",
       "  'Mount Hagen',\n",
       "  'Mount Hagen',\n",
       "  'Papua New Guinea',\n",
       "  'HGU',\n",
       "  'AYMH',\n",
       "  '-5.826789',\n",
       "  '144.295861',\n",
       "  '5388',\n",
       "  '10',\n",
       "  'U',\n",
       "  'Pacific/Port_Moresby'),\n",
       " (3,\n",
       "  '4',\n",
       "  'Nadzab',\n",
       "  'Nadzab',\n",
       "  'Papua New Guinea',\n",
       "  'LAE',\n",
       "  'AYNZ',\n",
       "  '-6.569828',\n",
       "  '146.726242',\n",
       "  '239',\n",
       "  '10',\n",
       "  'U',\n",
       "  'Pacific/Port_Moresby'),\n",
       " (4,\n",
       "  '5',\n",
       "  'Port Moresby Jacksons Intl',\n",
       "  'Port Moresby',\n",
       "  'Papua New Guinea',\n",
       "  'POM',\n",
       "  'AYPY',\n",
       "  '-9.443383',\n",
       "  '147.22005',\n",
       "  '146',\n",
       "  '10',\n",
       "  'U',\n",
       "  'Pacific/Port_Moresby'),\n",
       " (5,\n",
       "  '6',\n",
       "  'Wewak Intl',\n",
       "  'Wewak',\n",
       "  'Papua New Guinea',\n",
       "  'WWK',\n",
       "  'AYWK',\n",
       "  '-3.583828',\n",
       "  '143.669186',\n",
       "  '19',\n",
       "  '10',\n",
       "  'U',\n",
       "  'Pacific/Port_Moresby')]"
      ]
     },
     "execution_count": 9,
     "metadata": {},
     "output_type": "execute_result"
    }
   ],
   "source": [
    "cursor.fetchmany(4)"
   ]
  },
  {
   "cell_type": "markdown",
   "metadata": {
    "slideshow": {
     "slide_type": "slide"
    }
   },
   "source": [
    "#### Use description"
   ]
  },
  {
   "cell_type": "code",
   "execution_count": 10,
   "metadata": {
    "slideshow": {
     "slide_type": "fragment"
    }
   },
   "outputs": [
    {
     "data": {
      "text/plain": [
       "(('index', None, None, None, None, None, None),\n",
       " ('id', None, None, None, None, None, None),\n",
       " ('name', None, None, None, None, None, None),\n",
       " ('city', None, None, None, None, None, None),\n",
       " ('country', None, None, None, None, None, None),\n",
       " ('code', None, None, None, None, None, None),\n",
       " ('icao', None, None, None, None, None, None),\n",
       " ('latitude', None, None, None, None, None, None),\n",
       " ('longitude', None, None, None, None, None, None),\n",
       " ('altitude', None, None, None, None, None, None),\n",
       " ('offset', None, None, None, None, None, None),\n",
       " ('dst', None, None, None, None, None, None),\n",
       " ('timezone', None, None, None, None, None, None))"
      ]
     },
     "execution_count": 10,
     "metadata": {},
     "output_type": "execute_result"
    }
   ],
   "source": [
    "cursor.description"
   ]
  },
  {
   "cell_type": "markdown",
   "metadata": {
    "slideshow": {
     "slide_type": "slide"
    }
   },
   "source": [
    "#### Or use `Pragma`\n",
    "`Pragma` tool [link here](https://www.sqlite.org/pragma.html#pragma_table_info)\n",
    "\n",
    "**output**<br>\n",
    "`(column id, column name, data type, whether or not the column can be NULL, and the default value for the column)`"
   ]
  },
  {
   "cell_type": "code",
   "execution_count": 11,
   "metadata": {
    "slideshow": {
     "slide_type": "slide"
    }
   },
   "outputs": [
    {
     "name": "stdout",
     "output_type": "stream",
     "text": [
      "(0, 'index', 'INTEGER', 0, None, 0)\n",
      "(1, 'id', 'TEXT', 0, None, 0)\n",
      "(2, 'name', 'TEXT', 0, None, 0)\n",
      "(3, 'city', 'TEXT', 0, None, 0)\n",
      "(4, 'country', 'TEXT', 0, None, 0)\n",
      "(5, 'code', 'TEXT', 0, None, 0)\n",
      "(6, 'icao', 'TEXT', 0, None, 0)\n",
      "(7, 'latitude', 'TEXT', 0, None, 0)\n",
      "(8, 'longitude', 'TEXT', 0, None, 0)\n",
      "(9, 'altitude', 'TEXT', 0, None, 0)\n",
      "(10, 'offset', 'TEXT', 0, None, 0)\n",
      "(11, 'dst', 'TEXT', 0, None, 0)\n",
      "(12, 'timezone', 'TEXT', 0, None, 0)\n"
     ]
    }
   ],
   "source": [
    "cursor.execute(\"PRAGMA table_info(airports)\")\n",
    "info = cursor.fetchall()\n",
    "print(*info, sep = \"\\n\") "
   ]
  },
  {
   "cell_type": "markdown",
   "metadata": {
    "slideshow": {
     "slide_type": "slide"
    }
   },
   "source": [
    "#### Making fetch happen\n",
    "\n",
    "`.fetchall()` is how you get the query results out of the object.\n",
    "\n",
    "You can also `.fetchone()` or `.fetchmany()`"
   ]
  },
  {
   "cell_type": "markdown",
   "metadata": {
    "slideshow": {
     "slide_type": "slide"
    }
   },
   "source": [
    "**Task:** Get the descriptive data for airlines and routes tables"
   ]
  },
  {
   "cell_type": "code",
   "execution_count": 12,
   "metadata": {},
   "outputs": [
    {
     "name": "stdout",
     "output_type": "stream",
     "text": [
      "(0, 'index', 'INTEGER', 0, None, 0)\n",
      "(1, 'id', 'TEXT', 0, None, 0)\n",
      "(2, 'name', 'TEXT', 0, None, 0)\n",
      "(3, 'alias', 'TEXT', 0, None, 0)\n",
      "(4, 'iata', 'TEXT', 0, None, 0)\n",
      "(5, 'icao', 'TEXT', 0, None, 0)\n",
      "(6, 'callsign', 'TEXT', 0, None, 0)\n",
      "(7, 'country', 'TEXT', 0, None, 0)\n",
      "(8, 'active', 'TEXT', 0, None, 0)\n"
     ]
    }
   ],
   "source": [
    "cursor.execute(\"PRAGMA table_info(airlines)\")\n",
    "info = cursor.fetchall()\n",
    "print(*info, sep = \"\\n\")"
   ]
  },
  {
   "cell_type": "code",
   "execution_count": 13,
   "metadata": {},
   "outputs": [
    {
     "name": "stdout",
     "output_type": "stream",
     "text": [
      "(0, 'index', 'INTEGER', 0, None, 0)\n",
      "(1, 'airline', 'TEXT', 0, None, 0)\n",
      "(2, 'airline_id', 'TEXT', 0, None, 0)\n",
      "(3, 'source', 'TEXT', 0, None, 0)\n",
      "(4, 'source_id', 'TEXT', 0, None, 0)\n",
      "(5, 'dest', 'TEXT', 0, None, 0)\n",
      "(6, 'dest_id', 'TEXT', 0, None, 0)\n",
      "(7, 'codeshare', 'TEXT', 0, None, 0)\n",
      "(8, 'stops', 'TEXT', 0, None, 0)\n",
      "(9, 'equipment', 'TEXT', 0, None, 0)\n"
     ]
    }
   ],
   "source": [
    "cursor.execute(\"PRAGMA table_info(routes)\")\n",
    "info = cursor.fetchall()\n",
    "print(*info, sep = \"\\n\")"
   ]
  },
  {
   "cell_type": "markdown",
   "metadata": {
    "slideshow": {
     "slide_type": "slide"
    }
   },
   "source": [
    "***\n",
    "## Goal 4: Use basic SQL commands \n",
    "- Construct SQL queries\n",
    "- Use JOIN to merge tables along logical columns\n",
    "- Grouping Data with SQL"
   ]
  },
  {
   "cell_type": "markdown",
   "metadata": {
    "slideshow": {
     "slide_type": "slide"
    }
   },
   "source": [
    "### Construct SQL queries"
   ]
  },
  {
   "cell_type": "markdown",
   "metadata": {
    "slideshow": {
     "slide_type": "fragment"
    }
   },
   "source": [
    "**Select**"
   ]
  },
  {
   "cell_type": "markdown",
   "metadata": {
    "slideshow": {
     "slide_type": "fragment"
    }
   },
   "source": [
    "**From**"
   ]
  },
  {
   "cell_type": "markdown",
   "metadata": {
    "slideshow": {
     "slide_type": "fragment"
    }
   },
   "source": [
    "**Where**"
   ]
  },
  {
   "cell_type": "markdown",
   "metadata": {
    "slideshow": {
     "slide_type": "fragment"
    }
   },
   "source": [
    "**Order by**"
   ]
  },
  {
   "cell_type": "markdown",
   "metadata": {
    "slideshow": {
     "slide_type": "fragment"
    }
   },
   "source": [
    "**Limit**"
   ]
  },
  {
   "cell_type": "markdown",
   "metadata": {
    "slideshow": {
     "slide_type": "slide"
    }
   },
   "source": [
    "#### Options for each:"
   ]
  },
  {
   "cell_type": "markdown",
   "metadata": {
    "slideshow": {
     "slide_type": "fragment"
    }
   },
   "source": [
    "**Select**:  `distinct`, using `as` to rename columns, single number aggregates"
   ]
  },
  {
   "cell_type": "markdown",
   "metadata": {
    "slideshow": {
     "slide_type": "fragment"
    }
   },
   "source": [
    "**From:** also uses aliasing with `as`"
   ]
  },
  {
   "cell_type": "markdown",
   "metadata": {
    "slideshow": {
     "slide_type": "fragment"
    }
   },
   "source": [
    "**Where**: equals is only one `=`, `between`, `in`, wildcards `%`, `AND`, `OR`, `NOT`"
   ]
  },
  {
   "cell_type": "markdown",
   "metadata": {
    "slideshow": {
     "slide_type": "fragment"
    }
   },
   "source": [
    "**Order by**: `asc` and `desc`"
   ]
  },
  {
   "cell_type": "markdown",
   "metadata": {
    "slideshow": {
     "slide_type": "fragment"
    }
   },
   "source": [
    "**Limit**:  #"
   ]
  },
  {
   "cell_type": "markdown",
   "metadata": {
    "slideshow": {
     "slide_type": "slide"
    }
   },
   "source": [
    "**Task**: \n",
    "- Select only active airlines in the UK from the airlines table\n",
    "- Select the unique list of countries with airports"
   ]
  },
  {
   "cell_type": "code",
   "execution_count": 14,
   "metadata": {},
   "outputs": [
    {
     "data": {
      "text/plain": [
       "[('Astraeus',),\n",
       " ('Air Southwest',),\n",
       " ('Aurigny Air Services',),\n",
       " ('Air Wales',),\n",
       " ('AD Aviation',)]"
      ]
     },
     "execution_count": 14,
     "metadata": {},
     "output_type": "execute_result"
    }
   ],
   "source": [
    "cursor.execute(\"\"\"\n",
    "SELECT name\n",
    "FROM airlines\n",
    "WHERE active = 'Y'\n",
    "  AND country = 'United Kingdom';\n",
    "\"\"\")\n",
    "cursor.fetchmany(5)"
   ]
  },
  {
   "cell_type": "markdown",
   "metadata": {
    "slideshow": {
     "slide_type": "slide"
    }
   },
   "source": [
    "### SQL Joins"
   ]
  },
  {
   "cell_type": "markdown",
   "metadata": {
    "slideshow": {
     "slide_type": "fragment"
    }
   },
   "source": [
    "SQL joins can be used to both **add** data to a table and **remove** data from a table. "
   ]
  },
  {
   "cell_type": "markdown",
   "metadata": {
    "slideshow": {
     "slide_type": "fragment"
    }
   },
   "source": [
    "<img src=\"img/venn.png\" width=550>"
   ]
  },
  {
   "cell_type": "markdown",
   "metadata": {
    "slideshow": {
     "slide_type": "slide"
    }
   },
   "source": [
    "**Task** Write a query that will join the latitude and longitude data from the airports table to the information on the routes table"
   ]
  },
  {
   "cell_type": "code",
   "execution_count": 15,
   "metadata": {
    "slideshow": {
     "slide_type": "skip"
    }
   },
   "outputs": [
    {
     "name": "stdout",
     "output_type": "stream",
     "text": [
      "('index', None, None, None, None, None, None)\n",
      "('id', None, None, None, None, None, None)\n",
      "('name', None, None, None, None, None, None)\n",
      "('city', None, None, None, None, None, None)\n",
      "('country', None, None, None, None, None, None)\n",
      "('code', None, None, None, None, None, None)\n",
      "('icao', None, None, None, None, None, None)\n",
      "('latitude', None, None, None, None, None, None)\n",
      "('longitude', None, None, None, None, None, None)\n",
      "('altitude', None, None, None, None, None, None)\n",
      "('offset', None, None, None, None, None, None)\n",
      "('dst', None, None, None, None, None, None)\n",
      "('timezone', None, None, None, None, None, None)\n"
     ]
    }
   ],
   "source": [
    "cursor.execute(\"\"\"\n",
    "SELECT latitude, longitude\n",
    "FROM airports\n",
    "LEFT JOIN routes ON airports.\n",
    "\"\"\")\n",
    "print(*cursor.description, sep='\\n')"
   ]
  },
  {
   "cell_type": "markdown",
   "metadata": {
    "slideshow": {
     "slide_type": "slide"
    }
   },
   "source": [
    "### Grouping statements\n",
    "\n",
    "Combines `select` and `group by` when you want aggregates by values"
   ]
  },
  {
   "cell_type": "markdown",
   "metadata": {
    "slideshow": {
     "slide_type": "fragment"
    }
   },
   "source": [
    "`select` `min(x)` ... `max()`, `sum()`, etc"
   ]
  },
  {
   "cell_type": "markdown",
   "metadata": {
    "slideshow": {
     "slide_type": "fragment"
    }
   },
   "source": [
    "`group by x`"
   ]
  },
  {
   "cell_type": "markdown",
   "metadata": {
    "slideshow": {
     "slide_type": "slide"
    }
   },
   "source": [
    "**Task**<br>\n",
    "- Which countries have the highest amount of active airlines?\n",
    "- Which countries have the highest amount of inactive airlines?\n",
    "- What about airports by timezones?"
   ]
  },
  {
   "cell_type": "code",
   "execution_count": null,
   "metadata": {
    "slideshow": {
     "slide_type": "skip"
    }
   },
   "outputs": [],
   "source": [
    "# Which countries have the highest amount of active airports?\n",
    "cursor.execute(\"\"\"\n",
    "-- your code here;\n",
    "\"\"\")\n",
    "print(*cursor.fetchall(), sep='\\n')"
   ]
  },
  {
   "cell_type": "code",
   "execution_count": null,
   "metadata": {
    "slideshow": {
     "slide_type": "skip"
    }
   },
   "outputs": [],
   "source": [
    "# Which countries have the highest amount of inactive airports?\n",
    "cursor.execute(\"\"\"\n",
    "-- your code here;\n",
    "\"\"\")\n",
    "print(*cursor.fetchall(), sep='\\n')"
   ]
  },
  {
   "cell_type": "code",
   "execution_count": null,
   "metadata": {
    "slideshow": {
     "slide_type": "skip"
    }
   },
   "outputs": [],
   "source": [
    "# What about airports by timezones?\n",
    "cursor.execute(\"\"\"\n",
    "-- your code here;\"\"\")\n",
    "print(*cursor.fetchall(), sep='\\n')"
   ]
  },
  {
   "cell_type": "code",
   "execution_count": null,
   "metadata": {},
   "outputs": [],
   "source": [
    "# It's always a good idea to close our connections when we're done\n",
    "cursor.close()\n",
    "con.close()"
   ]
  },
  {
   "cell_type": "markdown",
   "metadata": {
    "slideshow": {
     "slide_type": "slide"
    }
   },
   "source": [
    "## Goal 5: Using sql within pandas to filter\n",
    "\n",
    "`.query()`\n",
    "\n",
    "[query documentation](https://pandas.pydata.org/pandas-docs/stable/reference/api/pandas.DataFrame.query.html)"
   ]
  },
  {
   "cell_type": "code",
   "execution_count": 16,
   "metadata": {
    "slideshow": {
     "slide_type": "slide"
    }
   },
   "outputs": [
    {
     "data": {
      "text/plain": [
       "Animal ID           object\n",
       "Name                object\n",
       "DateTime            object\n",
       "MonthYear           object\n",
       "Date of Birth       object\n",
       "Outcome Type        object\n",
       "Outcome Subtype     object\n",
       "Animal Type         object\n",
       "Sex upon Outcome    object\n",
       "Age upon Outcome    object\n",
       "Breed               object\n",
       "Color               object\n",
       "dtype: object"
      ]
     },
     "execution_count": 16,
     "metadata": {},
     "output_type": "execute_result"
    }
   ],
   "source": [
    "# Get data for an example\n",
    "import pandas as pd\n",
    "shelter_data=pd.read_csv('https://data.austintexas.gov/api/views/9t4d-g238/rows.csv?accessType=DOWNLOAD')\n",
    "shelter_data.dtypes"
   ]
  },
  {
   "cell_type": "code",
   "execution_count": 17,
   "metadata": {
    "slideshow": {
     "slide_type": "slide"
    }
   },
   "outputs": [
    {
     "data": {
      "text/html": [
       "<div>\n",
       "<style scoped>\n",
       "    .dataframe tbody tr th:only-of-type {\n",
       "        vertical-align: middle;\n",
       "    }\n",
       "\n",
       "    .dataframe tbody tr th {\n",
       "        vertical-align: top;\n",
       "    }\n",
       "\n",
       "    .dataframe thead th {\n",
       "        text-align: right;\n",
       "    }\n",
       "</style>\n",
       "<table border=\"1\" class=\"dataframe\">\n",
       "  <thead>\n",
       "    <tr style=\"text-align: right;\">\n",
       "      <th></th>\n",
       "      <th>Animal ID</th>\n",
       "      <th>Name</th>\n",
       "      <th>DateTime</th>\n",
       "      <th>MonthYear</th>\n",
       "      <th>Date of Birth</th>\n",
       "      <th>Outcome Type</th>\n",
       "      <th>Outcome Subtype</th>\n",
       "      <th>Animal Type</th>\n",
       "      <th>Sex upon Outcome</th>\n",
       "      <th>Age upon Outcome</th>\n",
       "      <th>Breed</th>\n",
       "      <th>Color</th>\n",
       "    </tr>\n",
       "  </thead>\n",
       "  <tbody>\n",
       "    <tr>\n",
       "      <th>43</th>\n",
       "      <td>A736717</td>\n",
       "      <td>Max</td>\n",
       "      <td>10/21/2016 02:45:00 PM</td>\n",
       "      <td>10/21/2016 02:45:00 PM</td>\n",
       "      <td>10/16/2013</td>\n",
       "      <td>Return to Owner</td>\n",
       "      <td>NaN</td>\n",
       "      <td>Dog</td>\n",
       "      <td>Neutered Male</td>\n",
       "      <td>3 years</td>\n",
       "      <td>Pug Mix</td>\n",
       "      <td>Brown Brindle</td>\n",
       "    </tr>\n",
       "    <tr>\n",
       "      <th>290</th>\n",
       "      <td>A688196</td>\n",
       "      <td>Max</td>\n",
       "      <td>09/16/2014 12:20:00 PM</td>\n",
       "      <td>09/16/2014 12:20:00 PM</td>\n",
       "      <td>09/16/2005</td>\n",
       "      <td>Euthanasia</td>\n",
       "      <td>Suffering</td>\n",
       "      <td>Dog</td>\n",
       "      <td>Neutered Male</td>\n",
       "      <td>9 years</td>\n",
       "      <td>Jack Russell Terrier Mix</td>\n",
       "      <td>Chocolate/White</td>\n",
       "    </tr>\n",
       "    <tr>\n",
       "      <th>379</th>\n",
       "      <td>A579608</td>\n",
       "      <td>Max</td>\n",
       "      <td>07/21/2014 12:43:00 PM</td>\n",
       "      <td>07/21/2014 12:43:00 PM</td>\n",
       "      <td>06/09/2010</td>\n",
       "      <td>Return to Owner</td>\n",
       "      <td>NaN</td>\n",
       "      <td>Dog</td>\n",
       "      <td>Neutered Male</td>\n",
       "      <td>4 years</td>\n",
       "      <td>Labrador Retriever Mix</td>\n",
       "      <td>Black/White</td>\n",
       "    </tr>\n",
       "    <tr>\n",
       "      <th>927</th>\n",
       "      <td>A784016</td>\n",
       "      <td>Max</td>\n",
       "      <td>05/21/2019 03:13:00 PM</td>\n",
       "      <td>05/21/2019 03:13:00 PM</td>\n",
       "      <td>08/10/2018</td>\n",
       "      <td>Return to Owner</td>\n",
       "      <td>NaN</td>\n",
       "      <td>Dog</td>\n",
       "      <td>Intact Male</td>\n",
       "      <td>9 months</td>\n",
       "      <td>Staffordshire Mix</td>\n",
       "      <td>Brown Brindle/White</td>\n",
       "    </tr>\n",
       "    <tr>\n",
       "      <th>980</th>\n",
       "      <td>A681062</td>\n",
       "      <td>Max</td>\n",
       "      <td>06/12/2014 02:22:00 PM</td>\n",
       "      <td>06/12/2014 02:22:00 PM</td>\n",
       "      <td>06/11/2011</td>\n",
       "      <td>Return to Owner</td>\n",
       "      <td>NaN</td>\n",
       "      <td>Dog</td>\n",
       "      <td>Neutered Male</td>\n",
       "      <td>3 years</td>\n",
       "      <td>Jack Russell Terrier Mix</td>\n",
       "      <td>Brown/White</td>\n",
       "    </tr>\n",
       "    <tr>\n",
       "      <th>1023</th>\n",
       "      <td>A727715</td>\n",
       "      <td>Max</td>\n",
       "      <td>10/07/2016 05:40:00 PM</td>\n",
       "      <td>10/07/2016 05:40:00 PM</td>\n",
       "      <td>05/25/2015</td>\n",
       "      <td>Adoption</td>\n",
       "      <td>NaN</td>\n",
       "      <td>Dog</td>\n",
       "      <td>Neutered Male</td>\n",
       "      <td>1 year</td>\n",
       "      <td>German Shepherd Mix</td>\n",
       "      <td>Tan/Black</td>\n",
       "    </tr>\n",
       "    <tr>\n",
       "      <th>1694</th>\n",
       "      <td>A691126</td>\n",
       "      <td>Max</td>\n",
       "      <td>01/06/2016 01:12:00 PM</td>\n",
       "      <td>01/06/2016 01:12:00 PM</td>\n",
       "      <td>10/30/2005</td>\n",
       "      <td>Return to Owner</td>\n",
       "      <td>NaN</td>\n",
       "      <td>Dog</td>\n",
       "      <td>Neutered Male</td>\n",
       "      <td>10 years</td>\n",
       "      <td>Maltese/Miniature Poodle</td>\n",
       "      <td>White</td>\n",
       "    </tr>\n",
       "    <tr>\n",
       "      <th>1805</th>\n",
       "      <td>A691271</td>\n",
       "      <td>Max</td>\n",
       "      <td>12/20/2016 08:50:00 AM</td>\n",
       "      <td>12/20/2016 08:50:00 AM</td>\n",
       "      <td>11/03/2013</td>\n",
       "      <td>Transfer</td>\n",
       "      <td>Partner</td>\n",
       "      <td>Dog</td>\n",
       "      <td>Neutered Male</td>\n",
       "      <td>3 years</td>\n",
       "      <td>Chihuahua Shorthair/Finnish Spitz</td>\n",
       "      <td>White/Tan</td>\n",
       "    </tr>\n",
       "    <tr>\n",
       "      <th>2655</th>\n",
       "      <td>A795976</td>\n",
       "      <td>Max</td>\n",
       "      <td>05/30/2019 11:20:00 AM</td>\n",
       "      <td>05/30/2019 11:20:00 AM</td>\n",
       "      <td>05/27/2008</td>\n",
       "      <td>Transfer</td>\n",
       "      <td>Partner</td>\n",
       "      <td>Dog</td>\n",
       "      <td>Neutered Male</td>\n",
       "      <td>11 years</td>\n",
       "      <td>Maltese</td>\n",
       "      <td>White</td>\n",
       "    </tr>\n",
       "    <tr>\n",
       "      <th>3069</th>\n",
       "      <td>A796351</td>\n",
       "      <td>Max</td>\n",
       "      <td>06/01/2019 04:18:00 PM</td>\n",
       "      <td>06/01/2019 04:18:00 PM</td>\n",
       "      <td>05/31/2010</td>\n",
       "      <td>Return to Owner</td>\n",
       "      <td>NaN</td>\n",
       "      <td>Cat</td>\n",
       "      <td>Neutered Male</td>\n",
       "      <td>9 years</td>\n",
       "      <td>Domestic Shorthair</td>\n",
       "      <td>Black/White</td>\n",
       "    </tr>\n",
       "    <tr>\n",
       "      <th>3109</th>\n",
       "      <td>A733837</td>\n",
       "      <td>Max</td>\n",
       "      <td>09/07/2016 03:50:00 PM</td>\n",
       "      <td>09/07/2016 03:50:00 PM</td>\n",
       "      <td>05/27/2015</td>\n",
       "      <td>Return to Owner</td>\n",
       "      <td>NaN</td>\n",
       "      <td>Dog</td>\n",
       "      <td>Intact Male</td>\n",
       "      <td>1 year</td>\n",
       "      <td>Labrador Retriever Mix</td>\n",
       "      <td>Chocolate/White</td>\n",
       "    </tr>\n",
       "    <tr>\n",
       "      <th>3135</th>\n",
       "      <td>A739218</td>\n",
       "      <td>Max</td>\n",
       "      <td>11/30/2016 05:02:00 PM</td>\n",
       "      <td>11/30/2016 05:02:00 PM</td>\n",
       "      <td>11/29/2014</td>\n",
       "      <td>Return to Owner</td>\n",
       "      <td>NaN</td>\n",
       "      <td>Dog</td>\n",
       "      <td>Intact Male</td>\n",
       "      <td>2 years</td>\n",
       "      <td>Labrador Retriever/German Shepherd</td>\n",
       "      <td>Red/Black</td>\n",
       "    </tr>\n",
       "    <tr>\n",
       "      <th>3159</th>\n",
       "      <td>A706593</td>\n",
       "      <td>Max</td>\n",
       "      <td>07/02/2015 04:53:00 PM</td>\n",
       "      <td>07/02/2015 04:53:00 PM</td>\n",
       "      <td>06/30/2013</td>\n",
       "      <td>Adoption</td>\n",
       "      <td>NaN</td>\n",
       "      <td>Dog</td>\n",
       "      <td>Neutered Male</td>\n",
       "      <td>2 years</td>\n",
       "      <td>Cardigan Welsh Corgi Mix</td>\n",
       "      <td>Black/White</td>\n",
       "    </tr>\n",
       "    <tr>\n",
       "      <th>3290</th>\n",
       "      <td>A699725</td>\n",
       "      <td>Max</td>\n",
       "      <td>05/04/2015 11:06:00 AM</td>\n",
       "      <td>05/04/2015 11:06:00 AM</td>\n",
       "      <td>12/01/2014</td>\n",
       "      <td>Return to Owner</td>\n",
       "      <td>NaN</td>\n",
       "      <td>Dog</td>\n",
       "      <td>Neutered Male</td>\n",
       "      <td>5 months</td>\n",
       "      <td>Jack Russell Terrier</td>\n",
       "      <td>White/Tan</td>\n",
       "    </tr>\n",
       "    <tr>\n",
       "      <th>3366</th>\n",
       "      <td>A793073</td>\n",
       "      <td>Max</td>\n",
       "      <td>04/19/2019 01:55:00 PM</td>\n",
       "      <td>04/19/2019 01:55:00 PM</td>\n",
       "      <td>06/02/2018</td>\n",
       "      <td>Return to Owner</td>\n",
       "      <td>NaN</td>\n",
       "      <td>Dog</td>\n",
       "      <td>Intact Male</td>\n",
       "      <td>10 months</td>\n",
       "      <td>Boxer Mix</td>\n",
       "      <td>Brown/Tricolor</td>\n",
       "    </tr>\n",
       "    <tr>\n",
       "      <th>3419</th>\n",
       "      <td>A668202</td>\n",
       "      <td>Max</td>\n",
       "      <td>12/08/2013 01:01:00 PM</td>\n",
       "      <td>12/08/2013 01:01:00 PM</td>\n",
       "      <td>01/29/2013</td>\n",
       "      <td>Adoption</td>\n",
       "      <td>NaN</td>\n",
       "      <td>Dog</td>\n",
       "      <td>Neutered Male</td>\n",
       "      <td>10 months</td>\n",
       "      <td>German Shepherd Mix</td>\n",
       "      <td>Brown/White</td>\n",
       "    </tr>\n",
       "    <tr>\n",
       "      <th>3778</th>\n",
       "      <td>A787719</td>\n",
       "      <td>Max</td>\n",
       "      <td>01/25/2019 04:21:00 PM</td>\n",
       "      <td>01/25/2019 04:21:00 PM</td>\n",
       "      <td>01/18/2017</td>\n",
       "      <td>Transfer</td>\n",
       "      <td>Partner</td>\n",
       "      <td>Dog</td>\n",
       "      <td>Intact Male</td>\n",
       "      <td>2 years</td>\n",
       "      <td>Nova Scotia Duck Tolling Retriever Mix</td>\n",
       "      <td>Red/White</td>\n",
       "    </tr>\n",
       "    <tr>\n",
       "      <th>3865</th>\n",
       "      <td>A744193</td>\n",
       "      <td>Max</td>\n",
       "      <td>06/04/2019 03:30:00 PM</td>\n",
       "      <td>06/04/2019 03:30:00 PM</td>\n",
       "      <td>09/27/2016</td>\n",
       "      <td>Adoption</td>\n",
       "      <td>NaN</td>\n",
       "      <td>Dog</td>\n",
       "      <td>Neutered Male</td>\n",
       "      <td>2 years</td>\n",
       "      <td>Cairn Terrier Mix</td>\n",
       "      <td>Tan/White</td>\n",
       "    </tr>\n",
       "    <tr>\n",
       "      <th>4072</th>\n",
       "      <td>A708783</td>\n",
       "      <td>Max</td>\n",
       "      <td>08/26/2015 05:48:00 PM</td>\n",
       "      <td>08/26/2015 05:48:00 PM</td>\n",
       "      <td>07/31/2013</td>\n",
       "      <td>Transfer</td>\n",
       "      <td>Partner</td>\n",
       "      <td>Dog</td>\n",
       "      <td>Neutered Male</td>\n",
       "      <td>2 years</td>\n",
       "      <td>Australian Cattle Dog/Staffordshire</td>\n",
       "      <td>White/Brown</td>\n",
       "    </tr>\n",
       "    <tr>\n",
       "      <th>4364</th>\n",
       "      <td>A788916</td>\n",
       "      <td>Max</td>\n",
       "      <td>02/15/2019 09:07:00 PM</td>\n",
       "      <td>02/15/2019 09:07:00 PM</td>\n",
       "      <td>11/26/2018</td>\n",
       "      <td>Adoption</td>\n",
       "      <td>NaN</td>\n",
       "      <td>Dog</td>\n",
       "      <td>Neutered Male</td>\n",
       "      <td>2 months</td>\n",
       "      <td>Pit Bull Mix</td>\n",
       "      <td>Brown Brindle/White</td>\n",
       "    </tr>\n",
       "    <tr>\n",
       "      <th>4733</th>\n",
       "      <td>A705016</td>\n",
       "      <td>Max</td>\n",
       "      <td>06/30/2015 06:01:00 PM</td>\n",
       "      <td>06/30/2015 06:01:00 PM</td>\n",
       "      <td>02/11/2014</td>\n",
       "      <td>Euthanasia</td>\n",
       "      <td>Aggressive</td>\n",
       "      <td>Dog</td>\n",
       "      <td>Neutered Male</td>\n",
       "      <td>1 year</td>\n",
       "      <td>Boxer/Labrador Retriever</td>\n",
       "      <td>Brown Brindle/White</td>\n",
       "    </tr>\n",
       "    <tr>\n",
       "      <th>4952</th>\n",
       "      <td>A665405</td>\n",
       "      <td>Max</td>\n",
       "      <td>01/10/2014 06:41:00 PM</td>\n",
       "      <td>01/10/2014 06:41:00 PM</td>\n",
       "      <td>06/17/2013</td>\n",
       "      <td>Adoption</td>\n",
       "      <td>NaN</td>\n",
       "      <td>Dog</td>\n",
       "      <td>Neutered Male</td>\n",
       "      <td>6 months</td>\n",
       "      <td>Labrador Retriever Mix</td>\n",
       "      <td>Black/White</td>\n",
       "    </tr>\n",
       "    <tr>\n",
       "      <th>4987</th>\n",
       "      <td>A793073</td>\n",
       "      <td>Max</td>\n",
       "      <td>06/09/2019 05:52:00 PM</td>\n",
       "      <td>06/09/2019 05:52:00 PM</td>\n",
       "      <td>06/02/2018</td>\n",
       "      <td>Adoption</td>\n",
       "      <td>NaN</td>\n",
       "      <td>Dog</td>\n",
       "      <td>Neutered Male</td>\n",
       "      <td>1 year</td>\n",
       "      <td>Boxer Mix</td>\n",
       "      <td>Brown/Tricolor</td>\n",
       "    </tr>\n",
       "    <tr>\n",
       "      <th>5065</th>\n",
       "      <td>A780200</td>\n",
       "      <td>Max</td>\n",
       "      <td>06/10/2019 10:53:00 AM</td>\n",
       "      <td>06/10/2019 10:53:00 AM</td>\n",
       "      <td>09/11/2014</td>\n",
       "      <td>Rto-Adopt</td>\n",
       "      <td>NaN</td>\n",
       "      <td>Dog</td>\n",
       "      <td>Neutered Male</td>\n",
       "      <td>4 years</td>\n",
       "      <td>German Shepherd Mix</td>\n",
       "      <td>Brown/Black</td>\n",
       "    </tr>\n",
       "    <tr>\n",
       "      <th>5698</th>\n",
       "      <td>A675076</td>\n",
       "      <td>Max</td>\n",
       "      <td>05/10/2014 12:20:00 PM</td>\n",
       "      <td>05/10/2014 12:20:00 PM</td>\n",
       "      <td>10/22/2008</td>\n",
       "      <td>Adoption</td>\n",
       "      <td>NaN</td>\n",
       "      <td>Dog</td>\n",
       "      <td>Neutered Male</td>\n",
       "      <td>5 years</td>\n",
       "      <td>Rottweiler Mix</td>\n",
       "      <td>Black/Tan</td>\n",
       "    </tr>\n",
       "    <tr>\n",
       "      <th>5800</th>\n",
       "      <td>A689975</td>\n",
       "      <td>Max</td>\n",
       "      <td>10/14/2014 05:29:00 PM</td>\n",
       "      <td>10/14/2014 05:29:00 PM</td>\n",
       "      <td>10/12/2010</td>\n",
       "      <td>Return to Owner</td>\n",
       "      <td>NaN</td>\n",
       "      <td>Dog</td>\n",
       "      <td>Neutered Male</td>\n",
       "      <td>4 years</td>\n",
       "      <td>Chihuahua Shorthair Mix</td>\n",
       "      <td>Black/White</td>\n",
       "    </tr>\n",
       "    <tr>\n",
       "      <th>5995</th>\n",
       "      <td>A797339</td>\n",
       "      <td>Max</td>\n",
       "      <td>06/13/2019 11:39:00 AM</td>\n",
       "      <td>06/13/2019 11:39:00 AM</td>\n",
       "      <td>06/12/2017</td>\n",
       "      <td>Return to Owner</td>\n",
       "      <td>NaN</td>\n",
       "      <td>Dog</td>\n",
       "      <td>Intact Male</td>\n",
       "      <td>2 years</td>\n",
       "      <td>Welsh Terrier/Miniature Poodle</td>\n",
       "      <td>Tan/Gray</td>\n",
       "    </tr>\n",
       "    <tr>\n",
       "      <th>6253</th>\n",
       "      <td>A680607</td>\n",
       "      <td>Max</td>\n",
       "      <td>06/14/2019 11:50:00 AM</td>\n",
       "      <td>06/14/2019 11:50:00 AM</td>\n",
       "      <td>04/04/2014</td>\n",
       "      <td>Return to Owner</td>\n",
       "      <td>NaN</td>\n",
       "      <td>Dog</td>\n",
       "      <td>Neutered Male</td>\n",
       "      <td>5 years</td>\n",
       "      <td>Chihuahua Shorthair Mix</td>\n",
       "      <td>Tan/White</td>\n",
       "    </tr>\n",
       "    <tr>\n",
       "      <th>6995</th>\n",
       "      <td>A797341</td>\n",
       "      <td>Max</td>\n",
       "      <td>06/17/2019 05:12:00 PM</td>\n",
       "      <td>06/17/2019 05:12:00 PM</td>\n",
       "      <td>03/12/2019</td>\n",
       "      <td>Adoption</td>\n",
       "      <td>NaN</td>\n",
       "      <td>Cat</td>\n",
       "      <td>Neutered Male</td>\n",
       "      <td>3 months</td>\n",
       "      <td>Domestic Shorthair</td>\n",
       "      <td>Cream Tabby/White</td>\n",
       "    </tr>\n",
       "    <tr>\n",
       "      <th>7009</th>\n",
       "      <td>A665263</td>\n",
       "      <td>Max</td>\n",
       "      <td>11/01/2013 11:37:00 AM</td>\n",
       "      <td>11/01/2013 11:37:00 AM</td>\n",
       "      <td>07/31/2013</td>\n",
       "      <td>Adoption</td>\n",
       "      <td>NaN</td>\n",
       "      <td>Dog</td>\n",
       "      <td>Neutered Male</td>\n",
       "      <td>3 months</td>\n",
       "      <td>Labrador Retriever Mix</td>\n",
       "      <td>Black</td>\n",
       "    </tr>\n",
       "    <tr>\n",
       "      <th>...</th>\n",
       "      <td>...</td>\n",
       "      <td>...</td>\n",
       "      <td>...</td>\n",
       "      <td>...</td>\n",
       "      <td>...</td>\n",
       "      <td>...</td>\n",
       "      <td>...</td>\n",
       "      <td>...</td>\n",
       "      <td>...</td>\n",
       "      <td>...</td>\n",
       "      <td>...</td>\n",
       "      <td>...</td>\n",
       "    </tr>\n",
       "    <tr>\n",
       "      <th>106435</th>\n",
       "      <td>A736717</td>\n",
       "      <td>Max</td>\n",
       "      <td>09/30/2017 12:10:00 PM</td>\n",
       "      <td>09/30/2017 12:10:00 PM</td>\n",
       "      <td>10/16/2013</td>\n",
       "      <td>Return to Owner</td>\n",
       "      <td>NaN</td>\n",
       "      <td>Dog</td>\n",
       "      <td>Neutered Male</td>\n",
       "      <td>3 years</td>\n",
       "      <td>Pug Mix</td>\n",
       "      <td>Brown Brindle</td>\n",
       "    </tr>\n",
       "    <tr>\n",
       "      <th>106452</th>\n",
       "      <td>A786178</td>\n",
       "      <td>Max</td>\n",
       "      <td>01/04/2019 02:13:00 PM</td>\n",
       "      <td>01/04/2019 02:13:00 PM</td>\n",
       "      <td>12/18/2017</td>\n",
       "      <td>Adoption</td>\n",
       "      <td>Foster</td>\n",
       "      <td>Dog</td>\n",
       "      <td>Neutered Male</td>\n",
       "      <td>1 year</td>\n",
       "      <td>Labrador Retriever Mix</td>\n",
       "      <td>Black/Brown</td>\n",
       "    </tr>\n",
       "    <tr>\n",
       "      <th>106473</th>\n",
       "      <td>A765742</td>\n",
       "      <td>Max</td>\n",
       "      <td>02/04/2018 01:36:00 PM</td>\n",
       "      <td>02/04/2018 01:36:00 PM</td>\n",
       "      <td>01/25/2016</td>\n",
       "      <td>Return to Owner</td>\n",
       "      <td>NaN</td>\n",
       "      <td>Dog</td>\n",
       "      <td>Neutered Male</td>\n",
       "      <td>2 years</td>\n",
       "      <td>Australian Cattle Dog Mix</td>\n",
       "      <td>Blue Merle</td>\n",
       "    </tr>\n",
       "    <tr>\n",
       "      <th>106489</th>\n",
       "      <td>A766769</td>\n",
       "      <td>Max</td>\n",
       "      <td>02/17/2018 12:34:00 PM</td>\n",
       "      <td>02/17/2018 12:34:00 PM</td>\n",
       "      <td>02/17/2007</td>\n",
       "      <td>Return to Owner</td>\n",
       "      <td>NaN</td>\n",
       "      <td>Dog</td>\n",
       "      <td>Neutered Male</td>\n",
       "      <td>11 years</td>\n",
       "      <td>Dachshund Mix</td>\n",
       "      <td>Brown</td>\n",
       "    </tr>\n",
       "    <tr>\n",
       "      <th>106546</th>\n",
       "      <td>A753298</td>\n",
       "      <td>Max</td>\n",
       "      <td>07/05/2017 03:43:00 PM</td>\n",
       "      <td>07/05/2017 03:43:00 PM</td>\n",
       "      <td>07/04/2016</td>\n",
       "      <td>Return to Owner</td>\n",
       "      <td>NaN</td>\n",
       "      <td>Dog</td>\n",
       "      <td>Intact Male</td>\n",
       "      <td>1 year</td>\n",
       "      <td>German Shepherd Mix</td>\n",
       "      <td>Brown/Black</td>\n",
       "    </tr>\n",
       "    <tr>\n",
       "      <th>106589</th>\n",
       "      <td>A771925</td>\n",
       "      <td>Max</td>\n",
       "      <td>05/17/2018 07:30:00 PM</td>\n",
       "      <td>05/17/2018 07:30:00 PM</td>\n",
       "      <td>05/12/2008</td>\n",
       "      <td>Adoption</td>\n",
       "      <td>NaN</td>\n",
       "      <td>Dog</td>\n",
       "      <td>Neutered Male</td>\n",
       "      <td>10 years</td>\n",
       "      <td>Miniature Schnauzer Mix</td>\n",
       "      <td>Gray/White</td>\n",
       "    </tr>\n",
       "    <tr>\n",
       "      <th>106603</th>\n",
       "      <td>A769128</td>\n",
       "      <td>Max</td>\n",
       "      <td>04/15/2018 12:45:00 PM</td>\n",
       "      <td>04/15/2018 12:45:00 PM</td>\n",
       "      <td>03/30/2017</td>\n",
       "      <td>Adoption</td>\n",
       "      <td>NaN</td>\n",
       "      <td>Dog</td>\n",
       "      <td>Neutered Male</td>\n",
       "      <td>1 year</td>\n",
       "      <td>Miniature Pinscher Mix</td>\n",
       "      <td>Black/Tricolor</td>\n",
       "    </tr>\n",
       "    <tr>\n",
       "      <th>106834</th>\n",
       "      <td>A756934</td>\n",
       "      <td>Max</td>\n",
       "      <td>01/06/2019 05:32:00 PM</td>\n",
       "      <td>01/06/2019 05:32:00 PM</td>\n",
       "      <td>12/28/2010</td>\n",
       "      <td>Return to Owner</td>\n",
       "      <td>NaN</td>\n",
       "      <td>Dog</td>\n",
       "      <td>Neutered Male</td>\n",
       "      <td>8 years</td>\n",
       "      <td>Yorkshire Terrier/Toy Poodle</td>\n",
       "      <td>Black/Gray</td>\n",
       "    </tr>\n",
       "    <tr>\n",
       "      <th>106858</th>\n",
       "      <td>A781484</td>\n",
       "      <td>Max</td>\n",
       "      <td>10/01/2018 04:57:00 PM</td>\n",
       "      <td>10/01/2018 04:57:00 PM</td>\n",
       "      <td>01/30/2018</td>\n",
       "      <td>Return to Owner</td>\n",
       "      <td>NaN</td>\n",
       "      <td>Dog</td>\n",
       "      <td>Intact Male</td>\n",
       "      <td>8 months</td>\n",
       "      <td>Australian Cattle Dog Mix</td>\n",
       "      <td>Red/White</td>\n",
       "    </tr>\n",
       "    <tr>\n",
       "      <th>106956</th>\n",
       "      <td>A775940</td>\n",
       "      <td>Max</td>\n",
       "      <td>03/18/2019 02:55:00 PM</td>\n",
       "      <td>03/18/2019 02:55:00 PM</td>\n",
       "      <td>05/04/2018</td>\n",
       "      <td>Adoption</td>\n",
       "      <td>NaN</td>\n",
       "      <td>Dog</td>\n",
       "      <td>Neutered Male</td>\n",
       "      <td>10 months</td>\n",
       "      <td>Plott Hound/Labrador Retriever</td>\n",
       "      <td>Brown Brindle/White</td>\n",
       "    </tr>\n",
       "    <tr>\n",
       "      <th>107124</th>\n",
       "      <td>A781983</td>\n",
       "      <td>Max</td>\n",
       "      <td>10/09/2018 03:34:00 PM</td>\n",
       "      <td>10/09/2018 03:34:00 PM</td>\n",
       "      <td>04/09/2018</td>\n",
       "      <td>Transfer</td>\n",
       "      <td>Partner</td>\n",
       "      <td>Dog</td>\n",
       "      <td>Intact Male</td>\n",
       "      <td>6 months</td>\n",
       "      <td>Labrador Retriever Mix</td>\n",
       "      <td>Red</td>\n",
       "    </tr>\n",
       "    <tr>\n",
       "      <th>107543</th>\n",
       "      <td>A773747</td>\n",
       "      <td>Max</td>\n",
       "      <td>11/25/2018 12:30:00 PM</td>\n",
       "      <td>11/25/2018 12:30:00 PM</td>\n",
       "      <td>06/05/2015</td>\n",
       "      <td>Return to Owner</td>\n",
       "      <td>NaN</td>\n",
       "      <td>Dog</td>\n",
       "      <td>Neutered Male</td>\n",
       "      <td>3 years</td>\n",
       "      <td>Boxer Mix</td>\n",
       "      <td>Tan</td>\n",
       "    </tr>\n",
       "    <tr>\n",
       "      <th>107605</th>\n",
       "      <td>A711597</td>\n",
       "      <td>Max</td>\n",
       "      <td>05/24/2017 09:53:00 AM</td>\n",
       "      <td>05/24/2017 09:53:00 AM</td>\n",
       "      <td>09/09/2009</td>\n",
       "      <td>Transfer</td>\n",
       "      <td>Partner</td>\n",
       "      <td>Dog</td>\n",
       "      <td>Neutered Male</td>\n",
       "      <td>7 years</td>\n",
       "      <td>German Shepherd Mix</td>\n",
       "      <td>Sable</td>\n",
       "    </tr>\n",
       "    <tr>\n",
       "      <th>107704</th>\n",
       "      <td>A742692</td>\n",
       "      <td>Max</td>\n",
       "      <td>02/04/2017 09:34:00 PM</td>\n",
       "      <td>02/04/2017 09:34:00 PM</td>\n",
       "      <td>10/01/2016</td>\n",
       "      <td>Adoption</td>\n",
       "      <td>NaN</td>\n",
       "      <td>Dog</td>\n",
       "      <td>Neutered Male</td>\n",
       "      <td>4 months</td>\n",
       "      <td>Australian Cattle Dog Mix</td>\n",
       "      <td>Tricolor</td>\n",
       "    </tr>\n",
       "    <tr>\n",
       "      <th>107828</th>\n",
       "      <td>A772365</td>\n",
       "      <td>Max</td>\n",
       "      <td>06/10/2018 05:32:00 PM</td>\n",
       "      <td>06/10/2018 05:32:00 PM</td>\n",
       "      <td>05/18/2016</td>\n",
       "      <td>Adoption</td>\n",
       "      <td>NaN</td>\n",
       "      <td>Cat</td>\n",
       "      <td>Neutered Male</td>\n",
       "      <td>2 years</td>\n",
       "      <td>Domestic Shorthair Mix</td>\n",
       "      <td>Blue/White</td>\n",
       "    </tr>\n",
       "    <tr>\n",
       "      <th>108067</th>\n",
       "      <td>A760849</td>\n",
       "      <td>Max</td>\n",
       "      <td>10/30/2017 04:58:00 PM</td>\n",
       "      <td>10/30/2017 04:58:00 PM</td>\n",
       "      <td>04/24/2017</td>\n",
       "      <td>Adoption</td>\n",
       "      <td>NaN</td>\n",
       "      <td>Dog</td>\n",
       "      <td>Neutered Male</td>\n",
       "      <td>6 months</td>\n",
       "      <td>Chihuahua Shorthair Mix</td>\n",
       "      <td>Buff</td>\n",
       "    </tr>\n",
       "    <tr>\n",
       "      <th>108105</th>\n",
       "      <td>A742618</td>\n",
       "      <td>Max</td>\n",
       "      <td>01/30/2017 11:19:00 AM</td>\n",
       "      <td>01/30/2017 11:19:00 AM</td>\n",
       "      <td>01/25/2004</td>\n",
       "      <td>Adoption</td>\n",
       "      <td>Foster</td>\n",
       "      <td>Dog</td>\n",
       "      <td>Neutered Male</td>\n",
       "      <td>13 years</td>\n",
       "      <td>German Shepherd/Golden Retriever</td>\n",
       "      <td>Buff</td>\n",
       "    </tr>\n",
       "    <tr>\n",
       "      <th>108135</th>\n",
       "      <td>A769020</td>\n",
       "      <td>Max</td>\n",
       "      <td>04/13/2018 03:28:00 PM</td>\n",
       "      <td>04/13/2018 03:28:00 PM</td>\n",
       "      <td>01/18/2018</td>\n",
       "      <td>Euthanasia</td>\n",
       "      <td>Medical</td>\n",
       "      <td>Dog</td>\n",
       "      <td>Neutered Male</td>\n",
       "      <td>2 months</td>\n",
       "      <td>German Shepherd</td>\n",
       "      <td>Black/Tan</td>\n",
       "    </tr>\n",
       "    <tr>\n",
       "      <th>108229</th>\n",
       "      <td>A746523</td>\n",
       "      <td>Max</td>\n",
       "      <td>04/05/2017 07:00:00 PM</td>\n",
       "      <td>04/05/2017 07:00:00 PM</td>\n",
       "      <td>04/04/2016</td>\n",
       "      <td>Return to Owner</td>\n",
       "      <td>NaN</td>\n",
       "      <td>Dog</td>\n",
       "      <td>Intact Male</td>\n",
       "      <td>1 year</td>\n",
       "      <td>Pug Mix</td>\n",
       "      <td>Brown/Black</td>\n",
       "    </tr>\n",
       "    <tr>\n",
       "      <th>108367</th>\n",
       "      <td>A793215</td>\n",
       "      <td>Max</td>\n",
       "      <td>04/30/2019 11:49:00 AM</td>\n",
       "      <td>04/30/2019 11:49:00 AM</td>\n",
       "      <td>04/21/2017</td>\n",
       "      <td>Return to Owner</td>\n",
       "      <td>NaN</td>\n",
       "      <td>Dog</td>\n",
       "      <td>Neutered Male</td>\n",
       "      <td>2 years</td>\n",
       "      <td>Chihuahua Shorthair Mix</td>\n",
       "      <td>Black/White</td>\n",
       "    </tr>\n",
       "    <tr>\n",
       "      <th>108402</th>\n",
       "      <td>A761042</td>\n",
       "      <td>Max</td>\n",
       "      <td>11/25/2017 01:45:00 PM</td>\n",
       "      <td>11/25/2017 01:45:00 PM</td>\n",
       "      <td>10/28/2015</td>\n",
       "      <td>Adoption</td>\n",
       "      <td>NaN</td>\n",
       "      <td>Dog</td>\n",
       "      <td>Neutered Male</td>\n",
       "      <td>2 years</td>\n",
       "      <td>Labrador Retriever Mix</td>\n",
       "      <td>White/Black</td>\n",
       "    </tr>\n",
       "    <tr>\n",
       "      <th>108424</th>\n",
       "      <td>A779463</td>\n",
       "      <td>Max</td>\n",
       "      <td>09/02/2018 12:04:00 PM</td>\n",
       "      <td>09/02/2018 12:04:00 PM</td>\n",
       "      <td>09/01/2014</td>\n",
       "      <td>Return to Owner</td>\n",
       "      <td>NaN</td>\n",
       "      <td>Dog</td>\n",
       "      <td>Neutered Male</td>\n",
       "      <td>4 years</td>\n",
       "      <td>Miniature Poodle Mix</td>\n",
       "      <td>White</td>\n",
       "    </tr>\n",
       "    <tr>\n",
       "      <th>108448</th>\n",
       "      <td>A759350</td>\n",
       "      <td>Max</td>\n",
       "      <td>10/20/2017 07:02:00 PM</td>\n",
       "      <td>10/20/2017 07:02:00 PM</td>\n",
       "      <td>08/24/2017</td>\n",
       "      <td>Adoption</td>\n",
       "      <td>NaN</td>\n",
       "      <td>Cat</td>\n",
       "      <td>Intact Male</td>\n",
       "      <td>1 month</td>\n",
       "      <td>Domestic Shorthair Mix</td>\n",
       "      <td>Brown Tabby/White</td>\n",
       "    </tr>\n",
       "    <tr>\n",
       "      <th>108550</th>\n",
       "      <td>A763715</td>\n",
       "      <td>Max</td>\n",
       "      <td>12/15/2017 03:19:00 PM</td>\n",
       "      <td>12/15/2017 03:19:00 PM</td>\n",
       "      <td>12/14/2015</td>\n",
       "      <td>Return to Owner</td>\n",
       "      <td>NaN</td>\n",
       "      <td>Dog</td>\n",
       "      <td>Intact Male</td>\n",
       "      <td>2 years</td>\n",
       "      <td>Siberian Husky Mix</td>\n",
       "      <td>Red/White</td>\n",
       "    </tr>\n",
       "    <tr>\n",
       "      <th>108617</th>\n",
       "      <td>A763824</td>\n",
       "      <td>Max</td>\n",
       "      <td>12/20/2017 05:03:00 PM</td>\n",
       "      <td>12/20/2017 05:03:00 PM</td>\n",
       "      <td>10/16/2017</td>\n",
       "      <td>Adoption</td>\n",
       "      <td>NaN</td>\n",
       "      <td>Cat</td>\n",
       "      <td>Neutered Male</td>\n",
       "      <td>2 months</td>\n",
       "      <td>Domestic Shorthair Mix</td>\n",
       "      <td>Black</td>\n",
       "    </tr>\n",
       "    <tr>\n",
       "      <th>108625</th>\n",
       "      <td>A773678</td>\n",
       "      <td>Max</td>\n",
       "      <td>06/14/2018 02:30:00 PM</td>\n",
       "      <td>06/14/2018 02:30:00 PM</td>\n",
       "      <td>01/04/2018</td>\n",
       "      <td>Adoption</td>\n",
       "      <td>NaN</td>\n",
       "      <td>Dog</td>\n",
       "      <td>Neutered Male</td>\n",
       "      <td>5 months</td>\n",
       "      <td>Black/Tan Hound Mix</td>\n",
       "      <td>Brown/Black</td>\n",
       "    </tr>\n",
       "    <tr>\n",
       "      <th>108989</th>\n",
       "      <td>A785678</td>\n",
       "      <td>Max</td>\n",
       "      <td>12/10/2018 10:15:00 PM</td>\n",
       "      <td>12/10/2018 10:15:00 PM</td>\n",
       "      <td>02/07/2018</td>\n",
       "      <td>Return to Owner</td>\n",
       "      <td>NaN</td>\n",
       "      <td>Dog</td>\n",
       "      <td>Intact Male</td>\n",
       "      <td>10 months</td>\n",
       "      <td>German Shepherd Mix</td>\n",
       "      <td>Brown/Black</td>\n",
       "    </tr>\n",
       "    <tr>\n",
       "      <th>109001</th>\n",
       "      <td>A777049</td>\n",
       "      <td>Max</td>\n",
       "      <td>08/02/2018 12:23:00 PM</td>\n",
       "      <td>08/02/2018 12:23:00 PM</td>\n",
       "      <td>07/22/2017</td>\n",
       "      <td>Return to Owner</td>\n",
       "      <td>NaN</td>\n",
       "      <td>Dog</td>\n",
       "      <td>Intact Male</td>\n",
       "      <td>1 year</td>\n",
       "      <td>Siberian Husky Mix</td>\n",
       "      <td>White</td>\n",
       "    </tr>\n",
       "    <tr>\n",
       "      <th>109628</th>\n",
       "      <td>A769530</td>\n",
       "      <td>Max</td>\n",
       "      <td>04/21/2018 07:19:00 PM</td>\n",
       "      <td>04/21/2018 07:19:00 PM</td>\n",
       "      <td>04/06/2017</td>\n",
       "      <td>Adoption</td>\n",
       "      <td>NaN</td>\n",
       "      <td>Dog</td>\n",
       "      <td>Neutered Male</td>\n",
       "      <td>1 year</td>\n",
       "      <td>Miniature Poodle Mix</td>\n",
       "      <td>White/Cream</td>\n",
       "    </tr>\n",
       "    <tr>\n",
       "      <th>109709</th>\n",
       "      <td>A786674</td>\n",
       "      <td>Max</td>\n",
       "      <td>01/12/2019 05:24:00 PM</td>\n",
       "      <td>01/12/2019 05:24:00 PM</td>\n",
       "      <td>12/29/2016</td>\n",
       "      <td>Adoption</td>\n",
       "      <td>NaN</td>\n",
       "      <td>Dog</td>\n",
       "      <td>Neutered Male</td>\n",
       "      <td>2 years</td>\n",
       "      <td>Australian Shepherd Mix</td>\n",
       "      <td>Red/White</td>\n",
       "    </tr>\n",
       "  </tbody>\n",
       "</table>\n",
       "<p>489 rows × 12 columns</p>\n",
       "</div>"
      ],
      "text/plain": [
       "       Animal ID Name                DateTime               MonthYear  \\\n",
       "43       A736717  Max  10/21/2016 02:45:00 PM  10/21/2016 02:45:00 PM   \n",
       "290      A688196  Max  09/16/2014 12:20:00 PM  09/16/2014 12:20:00 PM   \n",
       "379      A579608  Max  07/21/2014 12:43:00 PM  07/21/2014 12:43:00 PM   \n",
       "927      A784016  Max  05/21/2019 03:13:00 PM  05/21/2019 03:13:00 PM   \n",
       "980      A681062  Max  06/12/2014 02:22:00 PM  06/12/2014 02:22:00 PM   \n",
       "1023     A727715  Max  10/07/2016 05:40:00 PM  10/07/2016 05:40:00 PM   \n",
       "1694     A691126  Max  01/06/2016 01:12:00 PM  01/06/2016 01:12:00 PM   \n",
       "1805     A691271  Max  12/20/2016 08:50:00 AM  12/20/2016 08:50:00 AM   \n",
       "2655     A795976  Max  05/30/2019 11:20:00 AM  05/30/2019 11:20:00 AM   \n",
       "3069     A796351  Max  06/01/2019 04:18:00 PM  06/01/2019 04:18:00 PM   \n",
       "3109     A733837  Max  09/07/2016 03:50:00 PM  09/07/2016 03:50:00 PM   \n",
       "3135     A739218  Max  11/30/2016 05:02:00 PM  11/30/2016 05:02:00 PM   \n",
       "3159     A706593  Max  07/02/2015 04:53:00 PM  07/02/2015 04:53:00 PM   \n",
       "3290     A699725  Max  05/04/2015 11:06:00 AM  05/04/2015 11:06:00 AM   \n",
       "3366     A793073  Max  04/19/2019 01:55:00 PM  04/19/2019 01:55:00 PM   \n",
       "3419     A668202  Max  12/08/2013 01:01:00 PM  12/08/2013 01:01:00 PM   \n",
       "3778     A787719  Max  01/25/2019 04:21:00 PM  01/25/2019 04:21:00 PM   \n",
       "3865     A744193  Max  06/04/2019 03:30:00 PM  06/04/2019 03:30:00 PM   \n",
       "4072     A708783  Max  08/26/2015 05:48:00 PM  08/26/2015 05:48:00 PM   \n",
       "4364     A788916  Max  02/15/2019 09:07:00 PM  02/15/2019 09:07:00 PM   \n",
       "4733     A705016  Max  06/30/2015 06:01:00 PM  06/30/2015 06:01:00 PM   \n",
       "4952     A665405  Max  01/10/2014 06:41:00 PM  01/10/2014 06:41:00 PM   \n",
       "4987     A793073  Max  06/09/2019 05:52:00 PM  06/09/2019 05:52:00 PM   \n",
       "5065     A780200  Max  06/10/2019 10:53:00 AM  06/10/2019 10:53:00 AM   \n",
       "5698     A675076  Max  05/10/2014 12:20:00 PM  05/10/2014 12:20:00 PM   \n",
       "5800     A689975  Max  10/14/2014 05:29:00 PM  10/14/2014 05:29:00 PM   \n",
       "5995     A797339  Max  06/13/2019 11:39:00 AM  06/13/2019 11:39:00 AM   \n",
       "6253     A680607  Max  06/14/2019 11:50:00 AM  06/14/2019 11:50:00 AM   \n",
       "6995     A797341  Max  06/17/2019 05:12:00 PM  06/17/2019 05:12:00 PM   \n",
       "7009     A665263  Max  11/01/2013 11:37:00 AM  11/01/2013 11:37:00 AM   \n",
       "...          ...  ...                     ...                     ...   \n",
       "106435   A736717  Max  09/30/2017 12:10:00 PM  09/30/2017 12:10:00 PM   \n",
       "106452   A786178  Max  01/04/2019 02:13:00 PM  01/04/2019 02:13:00 PM   \n",
       "106473   A765742  Max  02/04/2018 01:36:00 PM  02/04/2018 01:36:00 PM   \n",
       "106489   A766769  Max  02/17/2018 12:34:00 PM  02/17/2018 12:34:00 PM   \n",
       "106546   A753298  Max  07/05/2017 03:43:00 PM  07/05/2017 03:43:00 PM   \n",
       "106589   A771925  Max  05/17/2018 07:30:00 PM  05/17/2018 07:30:00 PM   \n",
       "106603   A769128  Max  04/15/2018 12:45:00 PM  04/15/2018 12:45:00 PM   \n",
       "106834   A756934  Max  01/06/2019 05:32:00 PM  01/06/2019 05:32:00 PM   \n",
       "106858   A781484  Max  10/01/2018 04:57:00 PM  10/01/2018 04:57:00 PM   \n",
       "106956   A775940  Max  03/18/2019 02:55:00 PM  03/18/2019 02:55:00 PM   \n",
       "107124   A781983  Max  10/09/2018 03:34:00 PM  10/09/2018 03:34:00 PM   \n",
       "107543   A773747  Max  11/25/2018 12:30:00 PM  11/25/2018 12:30:00 PM   \n",
       "107605   A711597  Max  05/24/2017 09:53:00 AM  05/24/2017 09:53:00 AM   \n",
       "107704   A742692  Max  02/04/2017 09:34:00 PM  02/04/2017 09:34:00 PM   \n",
       "107828   A772365  Max  06/10/2018 05:32:00 PM  06/10/2018 05:32:00 PM   \n",
       "108067   A760849  Max  10/30/2017 04:58:00 PM  10/30/2017 04:58:00 PM   \n",
       "108105   A742618  Max  01/30/2017 11:19:00 AM  01/30/2017 11:19:00 AM   \n",
       "108135   A769020  Max  04/13/2018 03:28:00 PM  04/13/2018 03:28:00 PM   \n",
       "108229   A746523  Max  04/05/2017 07:00:00 PM  04/05/2017 07:00:00 PM   \n",
       "108367   A793215  Max  04/30/2019 11:49:00 AM  04/30/2019 11:49:00 AM   \n",
       "108402   A761042  Max  11/25/2017 01:45:00 PM  11/25/2017 01:45:00 PM   \n",
       "108424   A779463  Max  09/02/2018 12:04:00 PM  09/02/2018 12:04:00 PM   \n",
       "108448   A759350  Max  10/20/2017 07:02:00 PM  10/20/2017 07:02:00 PM   \n",
       "108550   A763715  Max  12/15/2017 03:19:00 PM  12/15/2017 03:19:00 PM   \n",
       "108617   A763824  Max  12/20/2017 05:03:00 PM  12/20/2017 05:03:00 PM   \n",
       "108625   A773678  Max  06/14/2018 02:30:00 PM  06/14/2018 02:30:00 PM   \n",
       "108989   A785678  Max  12/10/2018 10:15:00 PM  12/10/2018 10:15:00 PM   \n",
       "109001   A777049  Max  08/02/2018 12:23:00 PM  08/02/2018 12:23:00 PM   \n",
       "109628   A769530  Max  04/21/2018 07:19:00 PM  04/21/2018 07:19:00 PM   \n",
       "109709   A786674  Max  01/12/2019 05:24:00 PM  01/12/2019 05:24:00 PM   \n",
       "\n",
       "       Date of Birth     Outcome Type Outcome Subtype Animal Type  \\\n",
       "43        10/16/2013  Return to Owner             NaN         Dog   \n",
       "290       09/16/2005       Euthanasia       Suffering         Dog   \n",
       "379       06/09/2010  Return to Owner             NaN         Dog   \n",
       "927       08/10/2018  Return to Owner             NaN         Dog   \n",
       "980       06/11/2011  Return to Owner             NaN         Dog   \n",
       "1023      05/25/2015         Adoption             NaN         Dog   \n",
       "1694      10/30/2005  Return to Owner             NaN         Dog   \n",
       "1805      11/03/2013         Transfer         Partner         Dog   \n",
       "2655      05/27/2008         Transfer         Partner         Dog   \n",
       "3069      05/31/2010  Return to Owner             NaN         Cat   \n",
       "3109      05/27/2015  Return to Owner             NaN         Dog   \n",
       "3135      11/29/2014  Return to Owner             NaN         Dog   \n",
       "3159      06/30/2013         Adoption             NaN         Dog   \n",
       "3290      12/01/2014  Return to Owner             NaN         Dog   \n",
       "3366      06/02/2018  Return to Owner             NaN         Dog   \n",
       "3419      01/29/2013         Adoption             NaN         Dog   \n",
       "3778      01/18/2017         Transfer         Partner         Dog   \n",
       "3865      09/27/2016         Adoption             NaN         Dog   \n",
       "4072      07/31/2013         Transfer         Partner         Dog   \n",
       "4364      11/26/2018         Adoption             NaN         Dog   \n",
       "4733      02/11/2014       Euthanasia      Aggressive         Dog   \n",
       "4952      06/17/2013         Adoption             NaN         Dog   \n",
       "4987      06/02/2018         Adoption             NaN         Dog   \n",
       "5065      09/11/2014        Rto-Adopt             NaN         Dog   \n",
       "5698      10/22/2008         Adoption             NaN         Dog   \n",
       "5800      10/12/2010  Return to Owner             NaN         Dog   \n",
       "5995      06/12/2017  Return to Owner             NaN         Dog   \n",
       "6253      04/04/2014  Return to Owner             NaN         Dog   \n",
       "6995      03/12/2019         Adoption             NaN         Cat   \n",
       "7009      07/31/2013         Adoption             NaN         Dog   \n",
       "...              ...              ...             ...         ...   \n",
       "106435    10/16/2013  Return to Owner             NaN         Dog   \n",
       "106452    12/18/2017         Adoption          Foster         Dog   \n",
       "106473    01/25/2016  Return to Owner             NaN         Dog   \n",
       "106489    02/17/2007  Return to Owner             NaN         Dog   \n",
       "106546    07/04/2016  Return to Owner             NaN         Dog   \n",
       "106589    05/12/2008         Adoption             NaN         Dog   \n",
       "106603    03/30/2017         Adoption             NaN         Dog   \n",
       "106834    12/28/2010  Return to Owner             NaN         Dog   \n",
       "106858    01/30/2018  Return to Owner             NaN         Dog   \n",
       "106956    05/04/2018         Adoption             NaN         Dog   \n",
       "107124    04/09/2018         Transfer         Partner         Dog   \n",
       "107543    06/05/2015  Return to Owner             NaN         Dog   \n",
       "107605    09/09/2009         Transfer         Partner         Dog   \n",
       "107704    10/01/2016         Adoption             NaN         Dog   \n",
       "107828    05/18/2016         Adoption             NaN         Cat   \n",
       "108067    04/24/2017         Adoption             NaN         Dog   \n",
       "108105    01/25/2004         Adoption          Foster         Dog   \n",
       "108135    01/18/2018       Euthanasia         Medical         Dog   \n",
       "108229    04/04/2016  Return to Owner             NaN         Dog   \n",
       "108367    04/21/2017  Return to Owner             NaN         Dog   \n",
       "108402    10/28/2015         Adoption             NaN         Dog   \n",
       "108424    09/01/2014  Return to Owner             NaN         Dog   \n",
       "108448    08/24/2017         Adoption             NaN         Cat   \n",
       "108550    12/14/2015  Return to Owner             NaN         Dog   \n",
       "108617    10/16/2017         Adoption             NaN         Cat   \n",
       "108625    01/04/2018         Adoption             NaN         Dog   \n",
       "108989    02/07/2018  Return to Owner             NaN         Dog   \n",
       "109001    07/22/2017  Return to Owner             NaN         Dog   \n",
       "109628    04/06/2017         Adoption             NaN         Dog   \n",
       "109709    12/29/2016         Adoption             NaN         Dog   \n",
       "\n",
       "       Sex upon Outcome Age upon Outcome  \\\n",
       "43        Neutered Male          3 years   \n",
       "290       Neutered Male          9 years   \n",
       "379       Neutered Male          4 years   \n",
       "927         Intact Male         9 months   \n",
       "980       Neutered Male          3 years   \n",
       "1023      Neutered Male           1 year   \n",
       "1694      Neutered Male         10 years   \n",
       "1805      Neutered Male          3 years   \n",
       "2655      Neutered Male         11 years   \n",
       "3069      Neutered Male          9 years   \n",
       "3109        Intact Male           1 year   \n",
       "3135        Intact Male          2 years   \n",
       "3159      Neutered Male          2 years   \n",
       "3290      Neutered Male         5 months   \n",
       "3366        Intact Male        10 months   \n",
       "3419      Neutered Male        10 months   \n",
       "3778        Intact Male          2 years   \n",
       "3865      Neutered Male          2 years   \n",
       "4072      Neutered Male          2 years   \n",
       "4364      Neutered Male         2 months   \n",
       "4733      Neutered Male           1 year   \n",
       "4952      Neutered Male         6 months   \n",
       "4987      Neutered Male           1 year   \n",
       "5065      Neutered Male          4 years   \n",
       "5698      Neutered Male          5 years   \n",
       "5800      Neutered Male          4 years   \n",
       "5995        Intact Male          2 years   \n",
       "6253      Neutered Male          5 years   \n",
       "6995      Neutered Male         3 months   \n",
       "7009      Neutered Male         3 months   \n",
       "...                 ...              ...   \n",
       "106435    Neutered Male          3 years   \n",
       "106452    Neutered Male           1 year   \n",
       "106473    Neutered Male          2 years   \n",
       "106489    Neutered Male         11 years   \n",
       "106546      Intact Male           1 year   \n",
       "106589    Neutered Male         10 years   \n",
       "106603    Neutered Male           1 year   \n",
       "106834    Neutered Male          8 years   \n",
       "106858      Intact Male         8 months   \n",
       "106956    Neutered Male        10 months   \n",
       "107124      Intact Male         6 months   \n",
       "107543    Neutered Male          3 years   \n",
       "107605    Neutered Male          7 years   \n",
       "107704    Neutered Male         4 months   \n",
       "107828    Neutered Male          2 years   \n",
       "108067    Neutered Male         6 months   \n",
       "108105    Neutered Male         13 years   \n",
       "108135    Neutered Male         2 months   \n",
       "108229      Intact Male           1 year   \n",
       "108367    Neutered Male          2 years   \n",
       "108402    Neutered Male          2 years   \n",
       "108424    Neutered Male          4 years   \n",
       "108448      Intact Male          1 month   \n",
       "108550      Intact Male          2 years   \n",
       "108617    Neutered Male         2 months   \n",
       "108625    Neutered Male         5 months   \n",
       "108989      Intact Male        10 months   \n",
       "109001      Intact Male           1 year   \n",
       "109628    Neutered Male           1 year   \n",
       "109709    Neutered Male          2 years   \n",
       "\n",
       "                                         Breed                Color  \n",
       "43                                     Pug Mix        Brown Brindle  \n",
       "290                   Jack Russell Terrier Mix      Chocolate/White  \n",
       "379                     Labrador Retriever Mix          Black/White  \n",
       "927                          Staffordshire Mix  Brown Brindle/White  \n",
       "980                   Jack Russell Terrier Mix          Brown/White  \n",
       "1023                       German Shepherd Mix            Tan/Black  \n",
       "1694                  Maltese/Miniature Poodle                White  \n",
       "1805         Chihuahua Shorthair/Finnish Spitz            White/Tan  \n",
       "2655                                   Maltese                White  \n",
       "3069                        Domestic Shorthair          Black/White  \n",
       "3109                    Labrador Retriever Mix      Chocolate/White  \n",
       "3135        Labrador Retriever/German Shepherd            Red/Black  \n",
       "3159                  Cardigan Welsh Corgi Mix          Black/White  \n",
       "3290                      Jack Russell Terrier            White/Tan  \n",
       "3366                                 Boxer Mix       Brown/Tricolor  \n",
       "3419                       German Shepherd Mix          Brown/White  \n",
       "3778    Nova Scotia Duck Tolling Retriever Mix            Red/White  \n",
       "3865                         Cairn Terrier Mix            Tan/White  \n",
       "4072       Australian Cattle Dog/Staffordshire          White/Brown  \n",
       "4364                              Pit Bull Mix  Brown Brindle/White  \n",
       "4733                  Boxer/Labrador Retriever  Brown Brindle/White  \n",
       "4952                    Labrador Retriever Mix          Black/White  \n",
       "4987                                 Boxer Mix       Brown/Tricolor  \n",
       "5065                       German Shepherd Mix          Brown/Black  \n",
       "5698                            Rottweiler Mix            Black/Tan  \n",
       "5800                   Chihuahua Shorthair Mix          Black/White  \n",
       "5995            Welsh Terrier/Miniature Poodle             Tan/Gray  \n",
       "6253                   Chihuahua Shorthair Mix            Tan/White  \n",
       "6995                        Domestic Shorthair    Cream Tabby/White  \n",
       "7009                    Labrador Retriever Mix                Black  \n",
       "...                                        ...                  ...  \n",
       "106435                                 Pug Mix        Brown Brindle  \n",
       "106452                  Labrador Retriever Mix          Black/Brown  \n",
       "106473               Australian Cattle Dog Mix           Blue Merle  \n",
       "106489                           Dachshund Mix                Brown  \n",
       "106546                     German Shepherd Mix          Brown/Black  \n",
       "106589                 Miniature Schnauzer Mix           Gray/White  \n",
       "106603                  Miniature Pinscher Mix       Black/Tricolor  \n",
       "106834            Yorkshire Terrier/Toy Poodle           Black/Gray  \n",
       "106858               Australian Cattle Dog Mix            Red/White  \n",
       "106956          Plott Hound/Labrador Retriever  Brown Brindle/White  \n",
       "107124                  Labrador Retriever Mix                  Red  \n",
       "107543                               Boxer Mix                  Tan  \n",
       "107605                     German Shepherd Mix                Sable  \n",
       "107704               Australian Cattle Dog Mix             Tricolor  \n",
       "107828                  Domestic Shorthair Mix           Blue/White  \n",
       "108067                 Chihuahua Shorthair Mix                 Buff  \n",
       "108105        German Shepherd/Golden Retriever                 Buff  \n",
       "108135                         German Shepherd            Black/Tan  \n",
       "108229                                 Pug Mix          Brown/Black  \n",
       "108367                 Chihuahua Shorthair Mix          Black/White  \n",
       "108402                  Labrador Retriever Mix          White/Black  \n",
       "108424                    Miniature Poodle Mix                White  \n",
       "108448                  Domestic Shorthair Mix    Brown Tabby/White  \n",
       "108550                      Siberian Husky Mix            Red/White  \n",
       "108617                  Domestic Shorthair Mix                Black  \n",
       "108625                     Black/Tan Hound Mix          Brown/Black  \n",
       "108989                     German Shepherd Mix          Brown/Black  \n",
       "109001                      Siberian Husky Mix                White  \n",
       "109628                    Miniature Poodle Mix          White/Cream  \n",
       "109709                 Australian Shepherd Mix            Red/White  \n",
       "\n",
       "[489 rows x 12 columns]"
      ]
     },
     "execution_count": 17,
     "metadata": {},
     "output_type": "execute_result"
    }
   ],
   "source": [
    "max_data = shelter_data.query('Name == \"Max\"')\n",
    "max_data.head()\n",
    "#vs\n",
    "shelter_data[shelter_data['Name']==\"Max\"]"
   ]
  },
  {
   "cell_type": "code",
   "execution_count": 18,
   "metadata": {
    "slideshow": {
     "slide_type": "slide"
    }
   },
   "outputs": [
    {
     "data": {
      "text/html": [
       "<div>\n",
       "<style scoped>\n",
       "    .dataframe tbody tr th:only-of-type {\n",
       "        vertical-align: middle;\n",
       "    }\n",
       "\n",
       "    .dataframe tbody tr th {\n",
       "        vertical-align: top;\n",
       "    }\n",
       "\n",
       "    .dataframe thead th {\n",
       "        text-align: right;\n",
       "    }\n",
       "</style>\n",
       "<table border=\"1\" class=\"dataframe\">\n",
       "  <thead>\n",
       "    <tr style=\"text-align: right;\">\n",
       "      <th></th>\n",
       "      <th>Animal ID</th>\n",
       "      <th>Name</th>\n",
       "      <th>DateTime</th>\n",
       "      <th>MonthYear</th>\n",
       "      <th>Date of Birth</th>\n",
       "      <th>Outcome Type</th>\n",
       "      <th>Outcome Subtype</th>\n",
       "      <th>animal_type</th>\n",
       "      <th>Sex upon Outcome</th>\n",
       "      <th>Age upon Outcome</th>\n",
       "      <th>Breed</th>\n",
       "      <th>Color</th>\n",
       "    </tr>\n",
       "  </thead>\n",
       "  <tbody>\n",
       "    <tr>\n",
       "      <th>0</th>\n",
       "      <td>A789027</td>\n",
       "      <td>Lennie</td>\n",
       "      <td>02/17/2019 11:44:00 AM</td>\n",
       "      <td>02/17/2019 11:44:00 AM</td>\n",
       "      <td>02/13/2017</td>\n",
       "      <td>Adoption</td>\n",
       "      <td>NaN</td>\n",
       "      <td>Dog</td>\n",
       "      <td>Neutered Male</td>\n",
       "      <td>2 years</td>\n",
       "      <td>Chihuahua Shorthair Mix</td>\n",
       "      <td>Cream</td>\n",
       "    </tr>\n",
       "    <tr>\n",
       "      <th>1</th>\n",
       "      <td>A720371</td>\n",
       "      <td>Moose</td>\n",
       "      <td>02/13/2016 05:59:00 PM</td>\n",
       "      <td>02/13/2016 05:59:00 PM</td>\n",
       "      <td>10/08/2015</td>\n",
       "      <td>Adoption</td>\n",
       "      <td>NaN</td>\n",
       "      <td>Dog</td>\n",
       "      <td>Neutered Male</td>\n",
       "      <td>4 months</td>\n",
       "      <td>Anatol Shepherd/Labrador Retriever</td>\n",
       "      <td>Buff</td>\n",
       "    </tr>\n",
       "    <tr>\n",
       "      <th>9</th>\n",
       "      <td>A789027</td>\n",
       "      <td>Lennie</td>\n",
       "      <td>03/10/2019 12:25:00 PM</td>\n",
       "      <td>03/10/2019 12:25:00 PM</td>\n",
       "      <td>02/13/2017</td>\n",
       "      <td>Adoption</td>\n",
       "      <td>NaN</td>\n",
       "      <td>Dog</td>\n",
       "      <td>Neutered Male</td>\n",
       "      <td>2 years</td>\n",
       "      <td>Chihuahua Shorthair Mix</td>\n",
       "      <td>Cream</td>\n",
       "    </tr>\n",
       "    <tr>\n",
       "      <th>12</th>\n",
       "      <td>A795059</td>\n",
       "      <td>NaN</td>\n",
       "      <td>05/16/2019 10:14:00 AM</td>\n",
       "      <td>05/16/2019 10:14:00 AM</td>\n",
       "      <td>03/15/2019</td>\n",
       "      <td>Euthanasia</td>\n",
       "      <td>Rabies Risk</td>\n",
       "      <td>Dog</td>\n",
       "      <td>Intact Male</td>\n",
       "      <td>2 months</td>\n",
       "      <td>Pit Bull</td>\n",
       "      <td>Brown Brindle/White</td>\n",
       "    </tr>\n",
       "    <tr>\n",
       "      <th>13</th>\n",
       "      <td>A795043</td>\n",
       "      <td>NaN</td>\n",
       "      <td>05/16/2019 10:17:00 AM</td>\n",
       "      <td>05/16/2019 10:17:00 AM</td>\n",
       "      <td>03/31/2019</td>\n",
       "      <td>Euthanasia</td>\n",
       "      <td>Rabies Risk</td>\n",
       "      <td>Dog</td>\n",
       "      <td>Intact Male</td>\n",
       "      <td>1 month</td>\n",
       "      <td>German Shepherd</td>\n",
       "      <td>Black/Tan</td>\n",
       "    </tr>\n",
       "  </tbody>\n",
       "</table>\n",
       "</div>"
      ],
      "text/plain": [
       "   Animal ID    Name                DateTime               MonthYear  \\\n",
       "0    A789027  Lennie  02/17/2019 11:44:00 AM  02/17/2019 11:44:00 AM   \n",
       "1    A720371   Moose  02/13/2016 05:59:00 PM  02/13/2016 05:59:00 PM   \n",
       "9    A789027  Lennie  03/10/2019 12:25:00 PM  03/10/2019 12:25:00 PM   \n",
       "12   A795059     NaN  05/16/2019 10:14:00 AM  05/16/2019 10:14:00 AM   \n",
       "13   A795043     NaN  05/16/2019 10:17:00 AM  05/16/2019 10:17:00 AM   \n",
       "\n",
       "   Date of Birth Outcome Type Outcome Subtype animal_type Sex upon Outcome  \\\n",
       "0     02/13/2017     Adoption             NaN         Dog    Neutered Male   \n",
       "1     10/08/2015     Adoption             NaN         Dog    Neutered Male   \n",
       "9     02/13/2017     Adoption             NaN         Dog    Neutered Male   \n",
       "12    03/15/2019   Euthanasia     Rabies Risk         Dog      Intact Male   \n",
       "13    03/31/2019   Euthanasia     Rabies Risk         Dog      Intact Male   \n",
       "\n",
       "   Age upon Outcome                               Breed                Color  \n",
       "0           2 years             Chihuahua Shorthair Mix                Cream  \n",
       "1          4 months  Anatol Shepherd/Labrador Retriever                 Buff  \n",
       "9           2 years             Chihuahua Shorthair Mix                Cream  \n",
       "12         2 months                            Pit Bull  Brown Brindle/White  \n",
       "13          1 month                     German Shepherd            Black/Tan  "
      ]
     },
     "execution_count": 18,
     "metadata": {},
     "output_type": "execute_result"
    }
   ],
   "source": [
    "shelter_data.rename(index=str, columns={\"Animal Type\": \"animal_type\"}, inplace = True)\n",
    "test = shelter_data.query('animal_type == \"Dog\"')\n",
    "test.head()"
   ]
  },
  {
   "cell_type": "markdown",
   "metadata": {
    "slideshow": {
     "slide_type": "slide"
    }
   },
   "source": [
    "## Goal 6: Transfering from sqlite to pandas"
   ]
  },
  {
   "cell_type": "code",
   "execution_count": 19,
   "metadata": {
    "slideshow": {
     "slide_type": "fragment"
    }
   },
   "outputs": [
    {
     "data": {
      "text/html": [
       "<div>\n",
       "<style scoped>\n",
       "    .dataframe tbody tr th:only-of-type {\n",
       "        vertical-align: middle;\n",
       "    }\n",
       "\n",
       "    .dataframe tbody tr th {\n",
       "        vertical-align: top;\n",
       "    }\n",
       "\n",
       "    .dataframe thead th {\n",
       "        text-align: right;\n",
       "    }\n",
       "</style>\n",
       "<table border=\"1\" class=\"dataframe\">\n",
       "  <thead>\n",
       "    <tr style=\"text-align: right;\">\n",
       "      <th></th>\n",
       "      <th>index</th>\n",
       "      <th>id</th>\n",
       "      <th>name</th>\n",
       "      <th>city</th>\n",
       "      <th>country</th>\n",
       "      <th>code</th>\n",
       "      <th>icao</th>\n",
       "      <th>latitude</th>\n",
       "      <th>longitude</th>\n",
       "      <th>altitude</th>\n",
       "      <th>offset</th>\n",
       "      <th>dst</th>\n",
       "      <th>timezone</th>\n",
       "    </tr>\n",
       "  </thead>\n",
       "  <tbody>\n",
       "    <tr>\n",
       "      <th>0</th>\n",
       "      <td>0</td>\n",
       "      <td>1</td>\n",
       "      <td>Goroka</td>\n",
       "      <td>Goroka</td>\n",
       "      <td>Papua New Guinea</td>\n",
       "      <td>GKA</td>\n",
       "      <td>AYGA</td>\n",
       "      <td>-6.081689</td>\n",
       "      <td>145.391881</td>\n",
       "      <td>5282</td>\n",
       "      <td>10</td>\n",
       "      <td>U</td>\n",
       "      <td>Pacific/Port_Moresby</td>\n",
       "    </tr>\n",
       "    <tr>\n",
       "      <th>1</th>\n",
       "      <td>1</td>\n",
       "      <td>2</td>\n",
       "      <td>Madang</td>\n",
       "      <td>Madang</td>\n",
       "      <td>Papua New Guinea</td>\n",
       "      <td>MAG</td>\n",
       "      <td>AYMD</td>\n",
       "      <td>-5.207083</td>\n",
       "      <td>145.7887</td>\n",
       "      <td>20</td>\n",
       "      <td>10</td>\n",
       "      <td>U</td>\n",
       "      <td>Pacific/Port_Moresby</td>\n",
       "    </tr>\n",
       "    <tr>\n",
       "      <th>2</th>\n",
       "      <td>2</td>\n",
       "      <td>3</td>\n",
       "      <td>Mount Hagen</td>\n",
       "      <td>Mount Hagen</td>\n",
       "      <td>Papua New Guinea</td>\n",
       "      <td>HGU</td>\n",
       "      <td>AYMH</td>\n",
       "      <td>-5.826789</td>\n",
       "      <td>144.295861</td>\n",
       "      <td>5388</td>\n",
       "      <td>10</td>\n",
       "      <td>U</td>\n",
       "      <td>Pacific/Port_Moresby</td>\n",
       "    </tr>\n",
       "    <tr>\n",
       "      <th>3</th>\n",
       "      <td>3</td>\n",
       "      <td>4</td>\n",
       "      <td>Nadzab</td>\n",
       "      <td>Nadzab</td>\n",
       "      <td>Papua New Guinea</td>\n",
       "      <td>LAE</td>\n",
       "      <td>AYNZ</td>\n",
       "      <td>-6.569828</td>\n",
       "      <td>146.726242</td>\n",
       "      <td>239</td>\n",
       "      <td>10</td>\n",
       "      <td>U</td>\n",
       "      <td>Pacific/Port_Moresby</td>\n",
       "    </tr>\n",
       "    <tr>\n",
       "      <th>4</th>\n",
       "      <td>4</td>\n",
       "      <td>5</td>\n",
       "      <td>Port Moresby Jacksons Intl</td>\n",
       "      <td>Port Moresby</td>\n",
       "      <td>Papua New Guinea</td>\n",
       "      <td>POM</td>\n",
       "      <td>AYPY</td>\n",
       "      <td>-9.443383</td>\n",
       "      <td>147.22005</td>\n",
       "      <td>146</td>\n",
       "      <td>10</td>\n",
       "      <td>U</td>\n",
       "      <td>Pacific/Port_Moresby</td>\n",
       "    </tr>\n",
       "  </tbody>\n",
       "</table>\n",
       "</div>"
      ],
      "text/plain": [
       "   index id                        name          city           country code  \\\n",
       "0      0  1                      Goroka        Goroka  Papua New Guinea  GKA   \n",
       "1      1  2                      Madang        Madang  Papua New Guinea  MAG   \n",
       "2      2  3                 Mount Hagen   Mount Hagen  Papua New Guinea  HGU   \n",
       "3      3  4                      Nadzab        Nadzab  Papua New Guinea  LAE   \n",
       "4      4  5  Port Moresby Jacksons Intl  Port Moresby  Papua New Guinea  POM   \n",
       "\n",
       "   icao   latitude   longitude altitude offset dst              timezone  \n",
       "0  AYGA  -6.081689  145.391881     5282     10   U  Pacific/Port_Moresby  \n",
       "1  AYMD  -5.207083    145.7887       20     10   U  Pacific/Port_Moresby  \n",
       "2  AYMH  -5.826789  144.295861     5388     10   U  Pacific/Port_Moresby  \n",
       "3  AYNZ  -6.569828  146.726242      239     10   U  Pacific/Port_Moresby  \n",
       "4  AYPY  -9.443383   147.22005      146     10   U  Pacific/Port_Moresby  "
      ]
     },
     "execution_count": 19,
     "metadata": {},
     "output_type": "execute_result"
    }
   ],
   "source": [
    "pd_con = sqlite3.connect(\"flights.db\")\n",
    "df = pd.read_sql_query(\"select * from airports limit 5;\", pd_con)\n",
    "df"
   ]
  },
  {
   "cell_type": "markdown",
   "metadata": {
    "slideshow": {
     "slide_type": "slide"
    }
   },
   "source": [
    "**Task**: \n",
    "Convert one of the earlier queries in the lesson to a pandas data frame"
   ]
  },
  {
   "cell_type": "code",
   "execution_count": null,
   "metadata": {},
   "outputs": [],
   "source": [
    "# Which countries have the highest amount of active airports?\n",
    "df = pd.read_sql_query(\"\"\"\n",
    "-- your code here;\n",
    "\"\"\", pd_con)\n",
    "df"
   ]
  },
  {
   "cell_type": "code",
   "execution_count": null,
   "metadata": {},
   "outputs": [],
   "source": [
    "pd_con.close()"
   ]
  },
  {
   "cell_type": "markdown",
   "metadata": {
    "slideshow": {
     "slide_type": "slide"
    }
   },
   "source": [
    "## Integration\n",
    "\n",
    "The [Chinook database](https://github.com/lerocha/chinook-database) is a sample database, representing a digital media store.\n",
    "\n",
    "You need to create a query that can rank tracks in term of popularity.\n",
    "\n",
    "The name of the database is `Chinook_Sqlite.sqlite`"
   ]
  },
  {
   "cell_type": "markdown",
   "metadata": {
    "slideshow": {
     "slide_type": "slide"
    }
   },
   "source": [
    "Database information:<br>\n",
    "- How many tables are in the database?\n",
    "- What's the primary key of each table?\n",
    "- What foreign keys join the tables together?\n",
    "- If you had to draw a schema of how the tables are connected, what would it look like?"
   ]
  },
  {
   "cell_type": "markdown",
   "metadata": {
    "slideshow": {
     "slide_type": "slide"
    }
   },
   "source": [
    "To answer the question:<br>\n",
    "- What are the max and min dates in the Invoice table?\n",
    "- What tables would you need to answer \"what is your most popular track?\"\n",
    "- What values from each table?"
   ]
  },
  {
   "cell_type": "code",
   "execution_count": null,
   "metadata": {
    "slideshow": {
     "slide_type": "skip"
    }
   },
   "outputs": [],
   "source": [
    "conn = sqlite3.connect('Chinook_Sqlite.sqlite')\n",
    "cur = conn.cursor()"
   ]
  },
  {
   "cell_type": "code",
   "execution_count": null,
   "metadata": {},
   "outputs": [],
   "source": [
    "# How many tables are in the database?\n",
    "\n",
    "# your code here"
   ]
  },
  {
   "cell_type": "code",
   "execution_count": null,
   "metadata": {},
   "outputs": [],
   "source": [
    "# What's the primary key of each table?\n",
    "\n",
    "# your code here"
   ]
  },
  {
   "cell_type": "code",
   "execution_count": null,
   "metadata": {},
   "outputs": [],
   "source": [
    "# What foreign keys join the tables together?\n",
    "\n",
    "# your code here\n",
    "# hint: use \"PRAGMA foreign_key_list()\"\n"
   ]
  },
  {
   "cell_type": "code",
   "execution_count": null,
   "metadata": {},
   "outputs": [],
   "source": [
    "# What are the max and min dates in the Invoice table?\n",
    "cur.execute(\"\"\"\n",
    "-- your code here;\n",
    "\"\"\").fetchall()"
   ]
  },
  {
   "cell_type": "code",
   "execution_count": null,
   "metadata": {},
   "outputs": [],
   "source": [
    "# What tables would you need to answer \"what is your most popular track?\"\n"
   ]
  },
  {
   "cell_type": "code",
   "execution_count": null,
   "metadata": {},
   "outputs": [],
   "source": [
    "# What values from each table?\n"
   ]
  },
  {
   "cell_type": "code",
   "execution_count": null,
   "metadata": {},
   "outputs": [],
   "source": [
    "# Put it all together:\n",
    "# You need to create a query that can rank tracks in term of popularity.\n",
    "\n",
    "results = cur.execute(\"\"\"\n",
    "-- your code here;\n",
    "\"\"\").fetchall()\n",
    "\n",
    "print(*results, sep='\\n')"
   ]
  },
  {
   "cell_type": "code",
   "execution_count": null,
   "metadata": {},
   "outputs": [],
   "source": [
    "# Advanced: get the artist who sang the song!\n",
    "results = cur.execute(\"\"\"\n",
    "-- your code here;\n",
    "\"\"\").fetchall()\n",
    "\n",
    "print(*results, sep='\\n')"
   ]
  },
  {
   "cell_type": "markdown",
   "metadata": {
    "slideshow": {
     "slide_type": "slide"
    }
   },
   "source": [
    "## Reflection\n",
    "\n",
    "## Learning goals review:\n",
    "- Goal 1: Summarize the use case for sql in the data science skill set\n",
    "- Goal 2: Define key sql terminology\n",
    "- Goal 3: Get information about DB schema and table structure\n",
    "- Goal 4: Use basic SQL commands:\n",
    "    - Construct SQL queries\n",
    "    - Use JOIN to merge tables along logical columns\n",
    "    - Grouping Data with SQL\n",
    "- Goal 5: Query data from pandas dataframes using SQL\n",
    "- Goal 6: Convert SQL to pandas\n",
    "\n",
    "Please fill out today's [Exit Ticket](https://docs.google.com/forms/d/1O0dMGqjIV6-JIDYSIeGqTjIdep1BFiIVCc29UbEgwUM/edit)!"
   ]
  },
  {
   "cell_type": "code",
   "execution_count": null,
   "metadata": {},
   "outputs": [],
   "source": []
  }
 ],
 "metadata": {
  "kernelspec": {
   "display_name": "Python 3",
   "language": "python",
   "name": "python3"
  },
  "language_info": {
   "codemirror_mode": {
    "name": "ipython",
    "version": 3
   },
   "file_extension": ".py",
   "mimetype": "text/x-python",
   "name": "python",
   "nbconvert_exporter": "python",
   "pygments_lexer": "ipython3",
   "version": "3.7.3"
  }
 },
 "nbformat": 4,
 "nbformat_minor": 4
}
